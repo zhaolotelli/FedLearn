{
  "nbformat": 4,
  "nbformat_minor": 0,
  "metadata": {
    "colab": {
      "name": "AFL for Adult dataset.ipynb",
      "provenance": [],
      "collapsed_sections": [],
      "toc_visible": true,
      "authorship_tag": "ABX9TyOe/aEmvyUiT4d1bvkW6wz9",
      "include_colab_link": true
    },
    "kernelspec": {
      "name": "python3",
      "display_name": "Python 3"
    }
  },
  "cells": [
    {
      "cell_type": "markdown",
      "metadata": {
        "id": "view-in-github",
        "colab_type": "text"
      },
      "source": [
        "<a href=\"https://colab.research.google.com/github/zhaolotelli/FedLearn/blob/main/AFL_for_Adult_dataset.ipynb\" target=\"_parent\"><img src=\"https://colab.research.google.com/assets/colab-badge.svg\" alt=\"Open In Colab\"/></a>"
      ]
    },
    {
      "cell_type": "markdown",
      "metadata": {
        "id": "Ip7JA5on_FIp"
      },
      "source": [
        "## Import Adult dataset and data preprocessing"
      ]
    },
    {
      "cell_type": "code",
      "metadata": {
        "id": "eC6NuOf7P0qj"
      },
      "source": [
        "import numpy as np\n",
        "import pandas as pd\n",
        "import collections\n",
        "import torch\n",
        "import torch.nn.functional as F\n",
        "from torch import nn, optim\n",
        "from torch.utils.data import TensorDataset, DataLoader, SequentialSampler, BatchSampler, RandomSampler"
      ],
      "execution_count": null,
      "outputs": []
    },
    {
      "cell_type": "code",
      "metadata": {
        "colab": {
          "base_uri": "https://localhost:8080/"
        },
        "id": "FoVgUpAgQcYq",
        "outputId": "d50a1d35-9372-48dc-e7dc-c1d065738910"
      },
      "source": [
        "train_data = pd.read_csv(\"adult.data\", sep = ', ', header=None, names = ('age', 'workclass', 'fnlwgt', 'education', 'education-num', 'marital-status', \n",
        "        'occupation', 'relationship', 'race', 'sex', 'capital-gain', 'capital-loss', \n",
        "        'hours-per-week', 'native-country', '>50K'), na_values = '?')\n",
        "test_data = pd.read_csv(\"adult.test\", sep = ', ', header=None, names = ('age', 'workclass', 'fnlwgt', 'education', 'education-num', 'marital-status', \n",
        "        'occupation', 'relationship', 'race', 'sex', 'capital-gain', 'capital-loss', \n",
        "        'hours-per-week', 'native-country', '>50K'), na_values = '?', skiprows = 1)"
      ],
      "execution_count": null,
      "outputs": [
        {
          "output_type": "stream",
          "text": [
            "/usr/local/lib/python3.7/dist-packages/ipykernel_launcher.py:3: ParserWarning: Falling back to the 'python' engine because the 'c' engine does not support regex separators (separators > 1 char and different from '\\s+' are interpreted as regex); you can avoid this warning by specifying engine='python'.\n",
            "  This is separate from the ipykernel package so we can avoid doing imports until\n",
            "/usr/local/lib/python3.7/dist-packages/ipykernel_launcher.py:6: ParserWarning: Falling back to the 'python' engine because the 'c' engine does not support regex separators (separators > 1 char and different from '\\s+' are interpreted as regex); you can avoid this warning by specifying engine='python'.\n",
            "  \n"
          ],
          "name": "stderr"
        }
      ]
    },
    {
      "cell_type": "markdown",
      "metadata": {
        "id": "CRRD-KjpsEcx"
      },
      "source": [
        "delete the continuous features"
      ]
    },
    {
      "cell_type": "code",
      "metadata": {
        "id": "bwRWX0ICwLzJ"
      },
      "source": [
        "cont_cols = ['age', 'fnlwgt', 'education-num', 'capital-gain', 'capital-loss', 'hours-per-week']\n",
        "cato_cols = ['workclass', 'education', 'marital-status', 'occupation', 'relationship', 'race', 'sex', 'native-country']\n",
        "label_col = ['>50K']\n",
        "\n",
        "cato_train_data = train_data.drop(cont_cols, axis = 1)\n",
        "X_train, y_train = cato_train_data.drop(label_col, axis = 1), cato_train_data[label_col]\n",
        "cato_test_data = test_data.drop(cont_cols, axis = 1)\n",
        "X_test, y_test = cato_test_data.drop(label_col, axis = 1), cato_test_data[label_col]"
      ],
      "execution_count": null,
      "outputs": []
    },
    {
      "cell_type": "markdown",
      "metadata": {
        "id": "VKE0qp87o-kV"
      },
      "source": [
        "One hot encoding by *pd.get_dummies*"
      ]
    },
    {
      "cell_type": "code",
      "metadata": {
        "id": "NxrBeI01Kvqw"
      },
      "source": [
        "X_total = pd.concat([X_train, X_test], axis = 0)\n",
        "N = X_train.shape[0]\n",
        "\n",
        "OH_total = pd.get_dummies(X_total)\n",
        "OH_train = OH_total[:N]\n",
        "OH_test = OH_total[N:]"
      ],
      "execution_count": null,
      "outputs": []
    },
    {
      "cell_type": "code",
      "metadata": {
        "id": "iH3pD5CXtF1r"
      },
      "source": [
        "new_X_train = OH_train.to_numpy()\n",
        "new_X_test = OH_test.to_numpy()"
      ],
      "execution_count": null,
      "outputs": []
    },
    {
      "cell_type": "code",
      "metadata": {
        "id": "g3RMU-vpsojm"
      },
      "source": [
        "new_y_train = y_train['>50K'].map({'<=50K': 0, '>50K': 1}).astype(int).to_numpy()\n",
        "new_y_test = y_test['>50K'].map({'<=50K.': 0, '>50K.': 1}).astype(int).to_numpy()"
      ],
      "execution_count": null,
      "outputs": []
    },
    {
      "cell_type": "code",
      "metadata": {
        "id": "906U94V15sFp"
      },
      "source": [
        "class Client_Data(object):\n",
        "  def __init__(self, dataset, id):\n",
        "    raw_X, raw_y = dataset\n",
        "    if id == 'doctor':\n",
        "      doc_ind = (raw_X[:,18] == 1)\n",
        "      X = raw_X[doc_ind]\n",
        "      y = raw_y[doc_ind]\n",
        "    else:\n",
        "      ndoc_ind = (raw_X[:,18] == 0)\n",
        "      X = raw_X[ndoc_ind]\n",
        "      y = raw_y[ndoc_ind]\n",
        "    self.X = X.astype(np.float32)\n",
        "    self.y = y.astype(np.int64)\n",
        "    \n",
        "  def __len__(self):\n",
        "    return len(self.y)"
      ],
      "execution_count": null,
      "outputs": []
    },
    {
      "cell_type": "markdown",
      "metadata": {
        "id": "0ZRbIzg5-IeI"
      },
      "source": [
        "## Define Clients and Servers"
      ]
    },
    {
      "cell_type": "code",
      "metadata": {
        "id": "2iqlIISA-NV5"
      },
      "source": [
        "class Client(object):\n",
        "  def __init__(self, id, client_data):\n",
        "    self.id = id\n",
        "    self.client_data = client_data\n",
        "\n",
        "  def create_model(self, Learner, initial_params, learning_rate):\n",
        "    self.model = Learner(initial_params, learning_rate)\n",
        "\n",
        "  def update_model(self, params):\n",
        "    self.model.assign_params(params)\n",
        "\n",
        "  def train(self, epoch, batch_size):\n",
        "    self.model.train(self.client_data, epoch, batch_size)\n",
        "    loss = self.model.solve_loss(self.client_data)\n",
        "    num_example = len(self.client_data)\n",
        "    return num_example, loss\n",
        "\n",
        "  def sgd(self, batch_size):\n",
        "    loss, grads = self.model.sgd(self.client_data, batch_size)\n",
        "    num_example = len(self.client_data)\n",
        "    return num_example, loss, grads"
      ],
      "execution_count": null,
      "outputs": []
    },
    {
      "cell_type": "code",
      "metadata": {
        "id": "npHRe5WHHxPJ"
      },
      "source": [
        "class Server(object):\n",
        "  def __init__(self, train_data, ids, Learner, initial_params, learning_rate):\n",
        "    self.ids = ids\n",
        "    self.learner = Learner\n",
        "    self.clients = self.set_clients(train_data)\n",
        "    self.model = self.learner(initial_params, learning_rate)\n",
        "\n",
        "  def set_clients(self, train_data):\n",
        "    clients = []\n",
        "    for id in self.ids:\n",
        "      client_data = Client_Data(train_data, id)\n",
        "      c = Client(id, client_data)\n",
        "      c.create_model(self.learner, initial_params, learning_rate)\n",
        "      clients.append(c)\n",
        "    return clients\n",
        "\n",
        "  def send_model(self):\n",
        "    params = self.model.print_params()\n",
        "    for c in self.clients:\n",
        "      c.update_model(params)\n",
        "\n",
        "  def select_client(self, select_rate):\n",
        "    self.num_clients = np.maximum(1, np.int(np.floor(len(self.ids) * select_rate)))\n",
        "    select_ids = np.random.choice(self.ids, self.num_clients, replace=False)\n",
        "    select_clients = []\n",
        "    for id in select_ids:\n",
        "      loc_id = np.array([id == idx for idx in self.ids])\n",
        "      ind = np.int(np.array(range(len(self.ids)))[loc_id])\n",
        "      select_client = self.clients[ind]\n",
        "      select_clients.append(select_client)\n",
        "    return select_clients"
      ],
      "execution_count": null,
      "outputs": []
    },
    {
      "cell_type": "markdown",
      "metadata": {
        "id": "RTq9oeB0Ig4g"
      },
      "source": [
        "## Define Training model"
      ]
    },
    {
      "cell_type": "markdown",
      "metadata": {
        "id": "msq-xUD4I1Xy"
      },
      "source": [
        "Logistic Regression Model"
      ]
    },
    {
      "cell_type": "code",
      "metadata": {
        "id": "qMlGQ0MpJrWs"
      },
      "source": [
        "INPUT_SIZE = new_X_train.shape[1]"
      ],
      "execution_count": null,
      "outputs": []
    },
    {
      "cell_type": "code",
      "metadata": {
        "id": "ZEF04A9yNAis"
      },
      "source": [
        "class my_LogR(nn.Module):\n",
        "  def __init__(self, initial_params, learning_rate):\n",
        "    super().__init__()\n",
        "\n",
        "    self.lr = learning_rate\n",
        "    self.loss_fn = nn.CrossEntropyLoss()\n",
        "\n",
        "    self.linear = nn.Linear(INPUT_SIZE, 2)\n",
        "\n",
        "    if initial_params is not None:\n",
        "      self.assign_params(initial_params)\n",
        "\n",
        "  def forward(self, xb):\n",
        "    logits = self.linear(xb)\n",
        "    return logits\n",
        "\n",
        "  def train(self, client_data, epoch, batch_size):\n",
        "    X, y = map(torch.tensor, (client_data.X, client_data.y))\n",
        "    train_ds = TensorDataset(X, y)\n",
        "    train_dl = DataLoader(train_ds, batch_size = batch_size)\n",
        "    opt = optim.Adagrad(self.parameters(), lr=self.lr)\n",
        "\n",
        "    for _ in range(epoch):\n",
        "      for xb, yb in train_dl:\n",
        "        logits = self.forward(xb)\n",
        "        loss = self.loss_fn(logits, yb)\n",
        "        loss_value = loss.item()\n",
        "\n",
        "        loss.backward()\n",
        "        opt.step()\n",
        "        opt.zero_grad()\n",
        "\n",
        "  def sgd(self, client_data, batch_size):\n",
        "    X, y = map(torch.tensor, (client_data.X, client_data.y))\n",
        "    train_ds = TensorDataset(X, y)\n",
        "    train_dl = DataLoader(train_ds, \n",
        "        sampler = BatchSampler(RandomSampler(train_ds), \n",
        "        batch_size = batch_size, drop_last = False\n",
        "    ))\n",
        "    xb, yb = next(iter(train_dl))\n",
        "    xb = xb.view(-1, INPUT_SIZE)\n",
        "    yb = yb.view(-1)\n",
        "    \n",
        "    opt = optim.Adagrad((self.linear.weight, \n",
        "              self.linear.bias), lr=self.lr)\n",
        "    \n",
        "    logits = self.forward(xb)\n",
        "    loss = self.loss_fn(logits, yb)\n",
        "      \n",
        "    loss.backward()\n",
        "    grads = []\n",
        "    grads.append(self.linear.weight.grad.view(-1).detach().numpy())\n",
        "    grads.append(self.linear.bias.grad.detach().numpy())\n",
        "    \n",
        "    loss_value = self.solve_loss(client_data)\n",
        "\n",
        "    return loss_value, grads\n",
        "\n",
        "  def assign_params(self, params):\n",
        "    self.linear.weight = nn.Parameter(torch.tensor(params[0].reshape(2, INPUT_SIZE), dtype=torch.float32))\n",
        "    self.linear.bias = nn.Parameter(torch.tensor(params[1], dtype=torch.float32))\n",
        "\n",
        "  def print_params(self):\n",
        "    params = [self.linear.weight.detach().numpy().reshape(-1),\n",
        "            self.linear.bias.detach().numpy()]\n",
        "    return params\n",
        "  \n",
        "  def solve_loss(self, client_data):\n",
        "    X = torch.tensor(client_data.X)\n",
        "    y_true = torch.tensor(client_data.y)\n",
        "\n",
        "    y_pred = self.forward(X)\n",
        "    return self.loss_fn(y_pred, y_true).item()\n",
        "\n",
        "  def predict_accu(self, client_data):\n",
        "    X = torch.tensor(client_data.X)\n",
        "    y_true = torch.tensor(client_data.y)\n",
        "\n",
        "    y_pred = F.softmax(self.forward(X), dim = 1).detach().numpy().argmax(axis = 1)\n",
        "\n",
        "    accuracy = sum(y_pred == client_data.y) / len(client_data)\n",
        "    return accuracy"
      ],
      "execution_count": null,
      "outputs": []
    },
    {
      "cell_type": "markdown",
      "metadata": {
        "id": "IDoPDe654W1u"
      },
      "source": [
        "old version model"
      ]
    },
    {
      "cell_type": "code",
      "metadata": {
        "id": "I7l6eK9JI43a"
      },
      "source": [
        "class my_LogR(object):\n",
        "  def __init__(self, initial_params, learning_rate, \n",
        "               input_size = INPUT_SIZE):\n",
        "    self.input_size = input_size\n",
        "\n",
        "    self.lr = learning_rate\n",
        "    self.loss_fn = nn.CrossEntropyLoss()\n",
        "\n",
        "    self.linear = nn.Linear(input_size, 2)\n",
        "\n",
        "    if initial_params is not None:\n",
        "      self.assign_params(initial_params)\n",
        "\n",
        "  def model(self, xb):\n",
        "    logits = self.linear(xb)\n",
        "    return logits\n",
        "\n",
        "  def train(self, client_data, epoch, batch_size):\n",
        "    X, y = map(torch.tensor, (client_data.X, client_data.y))\n",
        "    train_ds = TensorDataset(X, y)\n",
        "    train_dl = DataLoader(train_ds, batch_size = batch_size)\n",
        "    opt = optim.Adagrad((self.linear.weight, \n",
        "              self.linear.bias), lr=self.lr)\n",
        "\n",
        "    for _ in range(epoch):\n",
        "      for xb, yb in train_dl:\n",
        "        logits = self.model(xb)\n",
        "        loss = self.loss_fn(logits, yb)\n",
        "        loss_value = loss.item()\n",
        "\n",
        "        loss.backward()\n",
        "        opt.step()\n",
        "        opt.zero_grad()\n",
        "\n",
        "        # print('loss: {}'.format(loss_value))\n",
        "\n",
        "  def sgd(self, client_data, batch_size):\n",
        "    X, y = map(torch.tensor, (client_data.X, client_data.y))\n",
        "    train_ds = TensorDataset(X, y)\n",
        "    train_dl = DataLoader(train_ds, \n",
        "        sampler = BatchSampler(RandomSampler(train_ds), \n",
        "        batch_size = batch_size, drop_last = False\n",
        "    ))\n",
        "    xb, yb = next(iter(train_dl))\n",
        "    xb = xb.view(-1, self.input_size)\n",
        "    yb = yb.view(-1)\n",
        "    \n",
        "    opt = optim.Adagrad((self.linear.weight, \n",
        "              self.linear.bias), lr=self.lr)\n",
        "    \n",
        "    logits = self.model(xb)\n",
        "    loss = self.loss_fn(logits, yb)\n",
        "      \n",
        "    loss.backward()\n",
        "    grads = []\n",
        "    grads.append(self.linear.weight.grad.view(-1).detach().numpy())\n",
        "    grads.append(self.linear.bias.grad.detach().numpy())\n",
        "\n",
        "    #opt.step()\n",
        "    #opt.zero_grad()\n",
        "    \n",
        "    loss_value = self.solve_loss(client_data)\n",
        "\n",
        "    return loss_value, grads\n",
        "\n",
        "  def assign_params(self, params):\n",
        "    self.linear.weight = nn.Parameter(torch.tensor(params[0].reshape(2, self.input_size), dtype=torch.float32))\n",
        "    self.linear.bias = nn.Parameter(torch.tensor(params[1], dtype=torch.float32))\n",
        "\n",
        "  def print_params(self):\n",
        "    params = [self.linear.weight.detach().numpy().reshape(-1),\n",
        "            self.linear.bias.detach().numpy()]\n",
        "    return params\n",
        "  \n",
        "  def solve_loss(self, client_data):\n",
        "    X = torch.tensor(client_data.X)\n",
        "    y_true = torch.tensor(client_data.y)\n",
        "\n",
        "    y_pred = self.model(X)\n",
        "    return self.loss_fn(y_pred, y_true).item()\n",
        "\n",
        "  def predict_error(self, client_data):\n",
        "    X = torch.tensor(client_data.X)\n",
        "    y_true = torch.tensor(client_data.y)\n",
        "\n",
        "    y_pred = F.softmax(self.model(X), dim = 1).detach().numpy().argmax(axis = 1)\n",
        "\n",
        "    accuracy = sum(y_pred == client_data.y) / len(client_data)\n",
        "    return accuracy"
      ],
      "execution_count": null,
      "outputs": []
    },
    {
      "cell_type": "markdown",
      "metadata": {
        "id": "mzMlzrGaZ6RK"
      },
      "source": [
        "## Aggregation"
      ]
    },
    {
      "cell_type": "markdown",
      "metadata": {
        "id": "X5ixj-m4h6Fc"
      },
      "source": [
        "FedAvg"
      ]
    },
    {
      "cell_type": "code",
      "metadata": {
        "id": "Pz7_O_3IaBpu"
      },
      "source": [
        "class WAVGM(Server):\n",
        "  def __init__(self, train_data, ids, Learner, initial_params, learning_rate):\n",
        "    super(WAVGM, self).__init__(train_data, ids, Learner, initial_params, learning_rate)\n",
        "\n",
        "  def train(self, epoch, batch_size, select_rate=1):\n",
        "    self.send_model()\n",
        "    self.select_clients = self.select_client(select_rate)\n",
        "    losses = []\n",
        "    self.client_nums = []\n",
        "    for client in self.select_clients:\n",
        "      client_num, client_loss = client.train(epoch, batch_size)\n",
        "      losses.append(client_loss)\n",
        "      self.client_nums.append(client_num)\n",
        "      print('Client: {}, Local_loss: {:f}'.format(client.id, client_loss))\n",
        "    self.aggregate()\n",
        "    return np.sum(losses)\n",
        "  \n",
        "  def aggregate(self):\n",
        "    total_params = [np.zeros(len(param)) for param in self.model.print_params()]\n",
        "    total_num = sum(self.client_nums)\n",
        "    t = 0\n",
        "    for c in self.select_clients:\n",
        "      for i in range(len(total_params)):\n",
        "        total_params[i] = total_params[i] + self.client_nums[t] / total_num * c.model.print_params()[i]\n",
        "      t += 1\n",
        "    self.model.assign_params(total_params)\n",
        "    return total_params"
      ],
      "execution_count": null,
      "outputs": []
    },
    {
      "cell_type": "markdown",
      "metadata": {
        "id": "viWX4_Bnh8Fq"
      },
      "source": [
        "Agnostic federated learning"
      ]
    },
    {
      "cell_type": "code",
      "metadata": {
        "id": "2hJdx65qh-c7"
      },
      "source": [
        "def project(y):\n",
        "  ''' algorithm comes from:\n",
        "  https://arxiv.org/pdf/1309.1541.pdf\n",
        "  '''\n",
        "  u = sorted(y, reverse=True)\n",
        "  x = []\n",
        "  rho = 0\n",
        "  for i in range(len(y)):\n",
        "      if (u[i] + (1.0/(i+1)) * (1-np.sum(np.asarray(u)[:i]))) > 0:\n",
        "          rho = i + 1\n",
        "  lambda_ = (1.0/rho) * (1-np.sum(np.asarray(u)[:rho]))\n",
        "  for i in range(len(y)):\n",
        "      x.append(max(y[i]+lambda_, 0))\n",
        "  return x\n",
        "\n",
        "class AFL(Server):\n",
        "  def __init__(self, train_data, ids, Learner, initial_params, learning_rate, lambda_learning_rate):\n",
        "    super(AFL, self).__init__(train_data, ids, Learner, initial_params, learning_rate)\n",
        "    self.lambdas = np.ones(len(self.clients)) / len(self.clients)\n",
        "    self.lambda_lr = lambda_learning_rate\n",
        "\n",
        "  def train(self, batch_size):\n",
        "    self.send_model()\n",
        "    losses = []\n",
        "    grads = []\n",
        "    for client in self.clients:\n",
        "      client_num, client_loss, client_grads = client.sgd(batch_size)\n",
        "      losses.append(client_loss)\n",
        "      grads.append(client_grads)\n",
        "      # print('Client: {}, Local_loss: {:f}'.format(client.id, client_loss))\n",
        "    self.aggregate(losses, grads)\n",
        "    return np.sum(losses)\n",
        "\n",
        "  def aggregate(self, losses, grads):\n",
        "    lambdas_new = self.lambdas + self.lambda_lr * np.array(losses)\n",
        "    self.lambdas = project(lambdas_new)\n",
        "\n",
        "    total_grad = [np.zeros(len(g)) for g in grads[0]]\n",
        "    for lambda_, grad in zip(self.lambdas, grads):\n",
        "      for i in range(len(grad)):\n",
        "        total_grad[i] = total_grad[i] + grad[i] * lambda_\n",
        "    \n",
        "    total_params = [param for param in self.model.print_params()]\n",
        "    for i in range(len(total_params)):\n",
        "      total_params[i] = total_params[i] - self.model.lr * total_grad[i]\n",
        "    self.model.assign_params(total_params)\n",
        "    return total_params"
      ],
      "execution_count": null,
      "outputs": []
    },
    {
      "cell_type": "markdown",
      "metadata": {
        "id": "W3P90rHLxwHH"
      },
      "source": [
        "q fair federated learning"
      ]
    },
    {
      "cell_type": "code",
      "metadata": {
        "id": "h_nfUfXlxyjU"
      },
      "source": [
        "class qFFL(Server):\n",
        "  def __init__(self, q, L, train_data, ids, Learner, initial_params, learning_rate):\n",
        "    self.L = L\n",
        "    self.q = q\n",
        "    super(qFFL, self).__init__(train_data, ids, Learner, initial_params, learning_rate)\n",
        "\n",
        "  def train(self, epoch, batch_size, select_rate=1):\n",
        "    self.send_model()\n",
        "    self.select_clients = self.select_client(select_rate)\n",
        "    self.start_losses = []\n",
        "    losses = []\n",
        "    for client in self.select_clients:\n",
        "      start_loss = client.model.solve_loss(client.client_data)\n",
        "      self.start_losses.append(start_loss)\n",
        "      _, client_loss = client.train(epoch, batch_size)\n",
        "      losses.append(client_loss)\n",
        "      # print('Client: {}, Local_loss: {:f}'.format(client.id, client_loss))\n",
        "    self.aggregate()\n",
        "    return np.sum(losses)\n",
        "  \n",
        "  def aggregate(self):\n",
        "    total_params = [np.zeros(len(param)) for param in self.model.print_params()]\n",
        "    delta_ = [np.zeros(len(param)) for param in self.model.print_params()]\n",
        "    start_params = [param for param in self.model.print_params()]\n",
        "    h_ = 0\n",
        "    for k, c in enumerate(self.select_clients):\n",
        "      loss = self.start_losses[k]\n",
        "      client_params = c.model.print_params()\n",
        "      for i in range(len(total_params)):\n",
        "        delta_[i] += np.power(loss, self.q) * (start_params[i] - client_params[i])\n",
        "      flatten_deltas = np.concatenate(delta_).ravel().tolist()\n",
        "      h_ += self.q * np.power(loss, self.q - 1) * np.sum(np.square(flatten_deltas)) + self.L * np.power(loss, self.q)\n",
        "    for i in range(len(total_params)):\n",
        "      total_params[i] = start_params[i] - delta_[i] / h_\n",
        "    self.model.assign_params(total_params)\n",
        "    return total_params"
      ],
      "execution_count": null,
      "outputs": []
    },
    {
      "cell_type": "markdown",
      "metadata": {
        "id": "HhzOrlTqbUss"
      },
      "source": [
        "## Training"
      ]
    },
    {
      "cell_type": "markdown",
      "metadata": {
        "id": "auDacLscGhck"
      },
      "source": [
        "FedAvg"
      ]
    },
    {
      "cell_type": "code",
      "metadata": {
        "id": "ApruawAubm7G"
      },
      "source": [
        "IDs = ('doctor', 'nondoctor')\n",
        "initial_params = None\n",
        "learning_rate = 0.001\n",
        "EPOCH = 5\n",
        "BATCH_SIZE = 10"
      ],
      "execution_count": null,
      "outputs": []
    },
    {
      "cell_type": "code",
      "metadata": {
        "id": "IeCU9T4SbZPz"
      },
      "source": [
        "LR_WAVGM_fit = WAVGM((new_X_train, new_y_train), IDs, my_LogR, initial_params, learning_rate)"
      ],
      "execution_count": null,
      "outputs": []
    },
    {
      "cell_type": "code",
      "metadata": {
        "id": "JkeTqysfb45Y"
      },
      "source": [
        "ITER = 10\n",
        "for i in range(ITER):\n",
        "  loss = LR_WAVGM_fit.train(EPOCH, BATCH_SIZE)\n",
        "  print('----------iter: {:d}/{:d}, loss: {:f}----------'.format(i+1, ITER, loss))"
      ],
      "execution_count": null,
      "outputs": []
    },
    {
      "cell_type": "markdown",
      "metadata": {
        "id": "Wv8i_jhRGgUo"
      },
      "source": [
        "AFL"
      ]
    },
    {
      "cell_type": "code",
      "metadata": {
        "id": "zbHB2NoaGfOJ"
      },
      "source": [
        "IDs = ('doctor', 'nondoctor')\n",
        "initial_params = None\n",
        "learning_rate = 0.05\n",
        "EPOCH = 5\n",
        "BATCH_SIZE = 20"
      ],
      "execution_count": null,
      "outputs": []
    },
    {
      "cell_type": "code",
      "metadata": {
        "id": "9NTKslTiJF4F"
      },
      "source": [
        "LR_AFL_fit = AFL((new_X_train, new_y_train), IDs, my_LogR, initial_params, learning_rate, lambda_learning_rate = 0.005)"
      ],
      "execution_count": null,
      "outputs": []
    },
    {
      "cell_type": "code",
      "metadata": {
        "id": "XmodgrryJdd9"
      },
      "source": [
        "ITER = 2000\n",
        "for i in range(ITER):\n",
        "  loss = LR_AFL_fit.train(BATCH_SIZE)\n",
        "  if ((i+1) % 10) == 0:\n",
        "    print('----------iter: {:d}/{:d}, loss: {:f}----------'.format(i+1, ITER, loss))"
      ],
      "execution_count": null,
      "outputs": []
    },
    {
      "cell_type": "code",
      "metadata": {
        "colab": {
          "base_uri": "https://localhost:8080/"
        },
        "id": "JA2Di5lp4shR",
        "outputId": "1b4dd850-c366-4593-c2c2-5379c10cd571"
      },
      "source": [
        "LR_AFL_fit.lambdas"
      ],
      "execution_count": null,
      "outputs": [
        {
          "output_type": "execute_result",
          "data": {
            "text/plain": [
              "[0.9090541379898784, 0.09094586201012152]"
            ]
          },
          "metadata": {
            "tags": []
          },
          "execution_count": 52
        }
      ]
    },
    {
      "cell_type": "markdown",
      "metadata": {
        "id": "Ee8Sq6kwr_WD"
      },
      "source": [
        "q-FFL"
      ]
    },
    {
      "cell_type": "code",
      "metadata": {
        "id": "Vh3D0I1asjzu"
      },
      "source": [
        "IDs = ('doctor', 'nondoctor')\n",
        "initial_params = None\n",
        "learning_rate = 0.1\n",
        "q1 = 0.01\n",
        "q2 = 2\n",
        "EPOCH = 2\n",
        "BATCH_SIZE = 10\n",
        "LR_qFFL_fit = qFFL(0, 0, (new_X_train, new_y_train), IDs, my_LogR, initial_params, learning_rate)"
      ],
      "execution_count": null,
      "outputs": []
    },
    {
      "cell_type": "code",
      "metadata": {
        "id": "n1TQys_RsmMT"
      },
      "source": [
        "_,_,grads = LR_qFFL_fit.clients[0].sgd(BATCH_SIZE)"
      ],
      "execution_count": null,
      "outputs": []
    },
    {
      "cell_type": "code",
      "metadata": {
        "id": "2LOLevXE1b4k"
      },
      "source": [
        "g1 = np.concatenate(grads).ravel()\n",
        "w1 = LR_qFFL_fit.clients[0].model.print_params()\n",
        "w1 = np.concatenate(w1).ravel()"
      ],
      "execution_count": null,
      "outputs": []
    },
    {
      "cell_type": "code",
      "metadata": {
        "id": "rjnw5WG63mJc"
      },
      "source": [
        "LR_qFFL_fit = qFFL(0, 0, (new_X_train, new_y_train), IDs, my_LogR, initial_params, learning_rate)"
      ],
      "execution_count": null,
      "outputs": []
    },
    {
      "cell_type": "code",
      "metadata": {
        "id": "DJz76Fy71kIe"
      },
      "source": [
        "_,_,grads = LR_qFFL_fit.clients[0].sgd(BATCH_SIZE)"
      ],
      "execution_count": null,
      "outputs": []
    },
    {
      "cell_type": "code",
      "metadata": {
        "id": "glsxqYWh1lDv"
      },
      "source": [
        "g2 = np.concatenate(grads).ravel()\n",
        "w2 = LR_qFFL_fit.clients[0].model.print_params()\n",
        "w2 = np.concatenate(w2).ravel()"
      ],
      "execution_count": null,
      "outputs": []
    },
    {
      "cell_type": "code",
      "metadata": {
        "id": "SiF-w1mM1qgf"
      },
      "source": [
        "L = np.sqrt(np.sum(np.square(g2 - g1))) / np.sqrt(np.sum(np.square(w2 - w1)))"
      ],
      "execution_count": null,
      "outputs": []
    },
    {
      "cell_type": "code",
      "metadata": {
        "colab": {
          "base_uri": "https://localhost:8080/"
        },
        "id": "BYzDtA8S3U04",
        "outputId": "af892658-0883-4701-a27b-b02452d0f807"
      },
      "source": [
        "L"
      ],
      "execution_count": null,
      "outputs": [
        {
          "output_type": "execute_result",
          "data": {
            "text/plain": [
              "0.413"
            ]
          },
          "metadata": {
            "tags": []
          },
          "execution_count": 62
        }
      ]
    },
    {
      "cell_type": "code",
      "metadata": {
        "id": "TlH-hPndsCsx"
      },
      "source": [
        "IDs = ('doctor', 'nondoctor')\n",
        "initial_params = None\n",
        "learning_rate = 0.1\n",
        "q1 = 0.01\n",
        "q2 = 2\n",
        "EPOCH = 2\n",
        "BATCH_SIZE = 10"
      ],
      "execution_count": null,
      "outputs": []
    },
    {
      "cell_type": "code",
      "metadata": {
        "id": "DyNTtytZsbQy"
      },
      "source": [
        "LR_qFFL_fit = qFFL(q2, L, (new_X_train, new_y_train), IDs, my_LogR, initial_params, learning_rate)"
      ],
      "execution_count": null,
      "outputs": []
    },
    {
      "cell_type": "code",
      "metadata": {
        "colab": {
          "base_uri": "https://localhost:8080/"
        },
        "id": "_iRWLuKYss83",
        "outputId": "cb3fdb18-2837-449a-f4b1-ea743cbc3172"
      },
      "source": [
        "ITER = 50\n",
        "losses = np.arange(10, 0, -1, dtype = np.float64)\n",
        "for i in range(ITER):\n",
        "  loss = LR_qFFL_fit.train(EPOCH, BATCH_SIZE)\n",
        "  losses[:-1] = losses[1:]\n",
        "  losses[-1] = loss\n",
        "  if sum(losses[:-1] >= losses[1:]) == 0:\n",
        "    break\n",
        "  print('----------iter: {:d}/{:d}, loss: {:f}----------'.format(i+1, ITER, loss))"
      ],
      "execution_count": null,
      "outputs": [
        {
          "output_type": "stream",
          "text": [
            "----------iter: 1/50, loss: 0.826870----------\n",
            "----------iter: 2/50, loss: 0.825796----------\n",
            "----------iter: 3/50, loss: 0.825058----------\n",
            "----------iter: 4/50, loss: 0.824283----------\n",
            "----------iter: 5/50, loss: 0.823461----------\n",
            "----------iter: 6/50, loss: 0.822604----------\n",
            "----------iter: 7/50, loss: 0.820979----------\n",
            "----------iter: 8/50, loss: 0.820078----------\n",
            "----------iter: 9/50, loss: 0.818900----------\n",
            "----------iter: 10/50, loss: 0.818300----------\n",
            "----------iter: 11/50, loss: 0.817891----------\n",
            "----------iter: 12/50, loss: 0.817589----------\n",
            "----------iter: 13/50, loss: 0.817538----------\n",
            "----------iter: 14/50, loss: 0.817581----------\n",
            "----------iter: 15/50, loss: 0.817723----------\n",
            "----------iter: 16/50, loss: 0.817900----------\n",
            "----------iter: 17/50, loss: 0.818033----------\n",
            "----------iter: 18/50, loss: 0.818186----------\n",
            "----------iter: 19/50, loss: 0.818325----------\n",
            "----------iter: 20/50, loss: 0.818424----------\n",
            "----------iter: 21/50, loss: 0.818498----------\n"
          ],
          "name": "stdout"
        }
      ]
    },
    {
      "cell_type": "markdown",
      "metadata": {
        "id": "b3SvmD_MwieN"
      },
      "source": [
        "## Testing"
      ]
    },
    {
      "cell_type": "code",
      "metadata": {
        "colab": {
          "base_uri": "https://localhost:8080/"
        },
        "id": "IxLJkRwuwh7q",
        "outputId": "027426af-1616-4f31-81c9-59a52a828562"
      },
      "source": [
        "final_model = LR_WAVGM_fit.model\n",
        "doc_test = Client_Data((new_X_test, new_y_test), IDs[0])\n",
        "nondoc_test = Client_Data((new_X_test, new_y_test), IDs[1])\n",
        "\n",
        "acc1 = final_model.predict_accu(doc_test)\n",
        "acc2 = final_model.predict_accu(nondoc_test)\n",
        "print('doctor data prediction accuracy: {:2f} \\nnondoctor data prediction accuracy: {:2f}'.format(acc1*100, acc2*100))"
      ],
      "execution_count": null,
      "outputs": [
        {
          "output_type": "stream",
          "text": [
            "doctor data prediction accuracy: 69.060773 \n",
            "nondoctor data prediction accuracy: 83.496894\n"
          ],
          "name": "stdout"
        }
      ]
    },
    {
      "cell_type": "code",
      "metadata": {
        "colab": {
          "base_uri": "https://localhost:8080/"
        },
        "id": "GfdCHlsJxlXV",
        "outputId": "a8d39b24-050e-4ecf-fe94-896127059c31"
      },
      "source": [
        "final_model = LR_AFL_fit.model\n",
        "doc_test = Client_Data((new_X_test, new_y_test), IDs[0])\n",
        "nondoc_test = Client_Data((new_X_test, new_y_test), IDs[1])\n",
        "\n",
        "acc1 = final_model.predict_error(doc_test)\n",
        "acc2 = final_model.predict_error(nondoc_test)\n",
        "print('doctor data prediction accuracy: {:2f} \\nnondoctor data prediction accuracy: {:2f}'.format(acc1*100, acc2*100))"
      ],
      "execution_count": null,
      "outputs": [
        {
          "output_type": "stream",
          "text": [
            "doctor data prediction accuracy: 74.585635 \n",
            "nondoctor data prediction accuracy: 82.347826\n"
          ],
          "name": "stdout"
        }
      ]
    },
    {
      "cell_type": "code",
      "metadata": {
        "colab": {
          "base_uri": "https://localhost:8080/"
        },
        "id": "C6Jx4OJltDtb",
        "outputId": "7891a7c3-1189-4095-ef60-01c0464849af"
      },
      "source": [
        "final_model = LR_qFFL_fit.model\n",
        "doc_test = Client_Data((new_X_test, new_y_test), IDs[0])\n",
        "nondoc_test = Client_Data((new_X_test, new_y_test), IDs[1])\n",
        "\n",
        "acc1 = final_model.predict_accu(doc_test)\n",
        "acc2 = final_model.predict_accu(nondoc_test)\n",
        "print('doctor data prediction accuracy: {:2f} \\nnondoctor data prediction accuracy: {:2f}'.format(acc1*100, acc2*100))"
      ],
      "execution_count": null,
      "outputs": [
        {
          "output_type": "stream",
          "text": [
            "doctor data prediction accuracy: 72.375691 \n",
            "nondoctor data prediction accuracy: 81.403727\n"
          ],
          "name": "stdout"
        }
      ]
    },
    {
      "cell_type": "markdown",
      "metadata": {
        "id": "6ODstQ8h661g"
      },
      "source": [
        "## Replications"
      ]
    },
    {
      "cell_type": "markdown",
      "metadata": {
        "id": "zb9z2Ej0GadP"
      },
      "source": [
        "FedAvg"
      ]
    },
    {
      "cell_type": "code",
      "metadata": {
        "id": "ky4VRhlJ7vBs"
      },
      "source": [
        "IDs = ('doctor', 'nondoctor')\n",
        "initial_params = None\n",
        "learning_rate = 0.001\n",
        "EPOCH = 5\n",
        "BATCH_SIZE = 10"
      ],
      "execution_count": null,
      "outputs": []
    },
    {
      "cell_type": "code",
      "metadata": {
        "id": "WfcHPhmJ7wwp"
      },
      "source": [
        "doc_test = Client_Data((new_X_test, new_y_test), IDs[0])\n",
        "nondoc_test = Client_Data((new_X_test, new_y_test), IDs[1])"
      ],
      "execution_count": null,
      "outputs": []
    },
    {
      "cell_type": "code",
      "metadata": {
        "id": "UyDyqDWr66OS"
      },
      "source": [
        "REP = 100\n",
        "Results1 = np.zeros((REP, 3))\n",
        "for i in range(REP):\n",
        "  LR_WAVGM_fit = WAVGM((new_X_train, new_y_train), IDs, my_LogR, initial_params, learning_rate)\n",
        "  ITER = 10\n",
        "  for _ in range(ITER):\n",
        "    loss = LR_WAVGM_fit.train(EPOCH, BATCH_SIZE)\n",
        "  final_model = LR_WAVGM_fit.model\n",
        "\n",
        "  acc1 = final_model.predict_error(doc_test)\n",
        "  acc2 = final_model.predict_error(nondoc_test)\n",
        "  acc0 = (len(doc_test) * acc1 + len(nondoc_test) * acc2) / (len(doc_test) + len(nondoc_test))\n",
        "  print('rep {:d} \\ntotal prediction accuracy: {:2f} \\ndoctor data prediction accuracy: {:2f} \\nnondoctor data prediction accuracy: {:2f}'.format(i, acc0, acc1, acc2))\n",
        "\n",
        "  Results1[i, 0] = acc0\n",
        "  Results1[i, 1] = acc1\n",
        "  Results1[i, 2] = acc2\n"
      ],
      "execution_count": null,
      "outputs": []
    },
    {
      "cell_type": "code",
      "metadata": {
        "id": "pO1J0yU29IJz"
      },
      "source": [
        "print(Results1)"
      ],
      "execution_count": null,
      "outputs": []
    },
    {
      "cell_type": "code",
      "metadata": {
        "colab": {
          "base_uri": "https://localhost:8080/"
        },
        "id": "qlby-PU5PZuV",
        "outputId": "67f96d27-da8c-465c-db20-8fadf5553562"
      },
      "source": [
        "Results1.mean(axis = 0)"
      ],
      "execution_count": null,
      "outputs": [
        {
          "output_type": "execute_result",
          "data": {
            "text/plain": [
              "array([0.83354954, 0.69546961, 0.83510186])"
            ]
          },
          "metadata": {
            "tags": []
          },
          "execution_count": 5
        }
      ]
    },
    {
      "cell_type": "code",
      "metadata": {
        "colab": {
          "base_uri": "https://localhost:8080/"
        },
        "id": "FkvclkGZPgmC",
        "outputId": "b36ba77d-d934-4d7b-e1ef-234cc99ae3fc"
      },
      "source": [
        "Results1.std(axis = 0)"
      ],
      "execution_count": null,
      "outputs": [
        {
          "output_type": "execute_result",
          "data": {
            "text/plain": [
              "array([0.00041558, 0.01097433, 0.00042961])"
            ]
          },
          "metadata": {
            "tags": []
          },
          "execution_count": 6
        }
      ]
    },
    {
      "cell_type": "markdown",
      "metadata": {
        "id": "oL1367jVGkn-"
      },
      "source": [
        "AFL"
      ]
    },
    {
      "cell_type": "code",
      "metadata": {
        "id": "qXK0RWpoGlek"
      },
      "source": [
        "IDs = ('doctor', 'nondoctor')\n",
        "initial_params = None\n",
        "learning_rate = 0.05\n",
        "EPOCH = 5\n",
        "BATCH_SIZE = 20"
      ],
      "execution_count": null,
      "outputs": []
    },
    {
      "cell_type": "code",
      "metadata": {
        "id": "dX55MFs2Gots"
      },
      "source": [
        "doc_test = Client_Data((new_X_test, new_y_test), IDs[0])\n",
        "nondoc_test = Client_Data((new_X_test, new_y_test), IDs[1])"
      ],
      "execution_count": null,
      "outputs": []
    },
    {
      "cell_type": "code",
      "metadata": {
        "colab": {
          "base_uri": "https://localhost:8080/"
        },
        "id": "RKIyp8L3GrFn",
        "outputId": "92ee9bc8-b807-401e-f602-c3bb352ecf8b"
      },
      "source": [
        "REP = 100\n",
        "Results2 = np.zeros((REP, 3))\n",
        "for i in range(REP):\n",
        "  LR_AFL_fit = AFL((new_X_train, new_y_train), IDs, my_LogR, initial_params, learning_rate, lambda_learning_rate = 0.005)\n",
        "  ITER = 2000\n",
        "  for _ in range(ITER):\n",
        "    loss = LR_AFL_fit.train(BATCH_SIZE)\n",
        "  final_model = LR_AFL_fit.model\n",
        "\n",
        "  acc1 = final_model.predict_error(doc_test)\n",
        "  acc2 = final_model.predict_error(nondoc_test)\n",
        "  acc0 = (len(doc_test) * acc1 + len(nondoc_test) * acc2) / (len(doc_test) + len(nondoc_test))\n",
        "  print('rep {:d} \\ntotal prediction accuracy: {:2f} \\ndoctor data prediction accuracy: {:2f} \\nnondoctor data prediction accuracy: {:2f}'.format(i, acc0, acc1, acc2))\n",
        "\n",
        "  Results2[i, 0] = acc0\n",
        "  Results2[i, 1] = acc1\n",
        "  Results2[i, 2] = acc2"
      ],
      "execution_count": null,
      "outputs": [
        {
          "output_type": "stream",
          "text": [
            "rep 0 \n",
            "total prediction accuracy: 0.819114 \n",
            "doctor data prediction accuracy: 0.729282 \n",
            "nondoctor data prediction accuracy: 0.820124\n",
            "rep 1 \n",
            "total prediction accuracy: 0.820773 \n",
            "doctor data prediction accuracy: 0.712707 \n",
            "nondoctor data prediction accuracy: 0.821988\n",
            "rep 2 \n",
            "total prediction accuracy: 0.818562 \n",
            "doctor data prediction accuracy: 0.701657 \n",
            "nondoctor data prediction accuracy: 0.819876\n",
            "rep 3 \n",
            "total prediction accuracy: 0.819237 \n",
            "doctor data prediction accuracy: 0.729282 \n",
            "nondoctor data prediction accuracy: 0.820248\n",
            "rep 4 \n",
            "total prediction accuracy: 0.819913 \n",
            "doctor data prediction accuracy: 0.723757 \n",
            "nondoctor data prediction accuracy: 0.820994\n",
            "rep 5 \n",
            "total prediction accuracy: 0.821018 \n",
            "doctor data prediction accuracy: 0.729282 \n",
            "nondoctor data prediction accuracy: 0.822050\n",
            "rep 6 \n",
            "total prediction accuracy: 0.821264 \n",
            "doctor data prediction accuracy: 0.723757 \n",
            "nondoctor data prediction accuracy: 0.822360\n",
            "rep 7 \n",
            "total prediction accuracy: 0.819667 \n",
            "doctor data prediction accuracy: 0.723757 \n",
            "nondoctor data prediction accuracy: 0.820745\n",
            "rep 8 \n",
            "total prediction accuracy: 0.814631 \n",
            "doctor data prediction accuracy: 0.729282 \n",
            "nondoctor data prediction accuracy: 0.815590\n",
            "rep 9 \n",
            "total prediction accuracy: 0.818562 \n",
            "doctor data prediction accuracy: 0.707182 \n",
            "nondoctor data prediction accuracy: 0.819814\n",
            "rep 10 \n",
            "total prediction accuracy: 0.819667 \n",
            "doctor data prediction accuracy: 0.718232 \n",
            "nondoctor data prediction accuracy: 0.820807\n",
            "rep 11 \n",
            "total prediction accuracy: 0.821633 \n",
            "doctor data prediction accuracy: 0.723757 \n",
            "nondoctor data prediction accuracy: 0.822733\n",
            "rep 12 \n",
            "total prediction accuracy: 0.818439 \n",
            "doctor data prediction accuracy: 0.723757 \n",
            "nondoctor data prediction accuracy: 0.819503\n",
            "rep 13 \n",
            "total prediction accuracy: 0.821940 \n",
            "doctor data prediction accuracy: 0.718232 \n",
            "nondoctor data prediction accuracy: 0.823106\n",
            "rep 14 \n",
            "total prediction accuracy: 0.820466 \n",
            "doctor data prediction accuracy: 0.718232 \n",
            "nondoctor data prediction accuracy: 0.821615\n",
            "rep 15 \n",
            "total prediction accuracy: 0.822738 \n",
            "doctor data prediction accuracy: 0.729282 \n",
            "nondoctor data prediction accuracy: 0.823789\n",
            "rep 16 \n",
            "total prediction accuracy: 0.819790 \n",
            "doctor data prediction accuracy: 0.723757 \n",
            "nondoctor data prediction accuracy: 0.820870\n",
            "rep 17 \n",
            "total prediction accuracy: 0.821264 \n",
            "doctor data prediction accuracy: 0.745856 \n",
            "nondoctor data prediction accuracy: 0.822112\n",
            "rep 18 \n",
            "total prediction accuracy: 0.821387 \n",
            "doctor data prediction accuracy: 0.718232 \n",
            "nondoctor data prediction accuracy: 0.822547\n",
            "rep 19 \n",
            "total prediction accuracy: 0.818746 \n",
            "doctor data prediction accuracy: 0.729282 \n",
            "nondoctor data prediction accuracy: 0.819752\n",
            "rep 20 \n",
            "total prediction accuracy: 0.819299 \n",
            "doctor data prediction accuracy: 0.734807 \n",
            "nondoctor data prediction accuracy: 0.820248\n",
            "rep 21 \n",
            "total prediction accuracy: 0.822492 \n",
            "doctor data prediction accuracy: 0.740331 \n",
            "nondoctor data prediction accuracy: 0.823416\n",
            "rep 22 \n",
            "total prediction accuracy: 0.821817 \n",
            "doctor data prediction accuracy: 0.734807 \n",
            "nondoctor data prediction accuracy: 0.822795\n",
            "rep 23 \n",
            "total prediction accuracy: 0.820711 \n",
            "doctor data prediction accuracy: 0.712707 \n",
            "nondoctor data prediction accuracy: 0.821925\n",
            "rep 24 \n",
            "total prediction accuracy: 0.820650 \n",
            "doctor data prediction accuracy: 0.723757 \n",
            "nondoctor data prediction accuracy: 0.821739\n",
            "rep 25 \n",
            "total prediction accuracy: 0.822554 \n",
            "doctor data prediction accuracy: 0.745856 \n",
            "nondoctor data prediction accuracy: 0.823416\n",
            "rep 26 \n",
            "total prediction accuracy: 0.821817 \n",
            "doctor data prediction accuracy: 0.718232 \n",
            "nondoctor data prediction accuracy: 0.822981\n",
            "rep 27 \n",
            "total prediction accuracy: 0.820097 \n",
            "doctor data prediction accuracy: 0.723757 \n",
            "nondoctor data prediction accuracy: 0.821180\n",
            "rep 28 \n",
            "total prediction accuracy: 0.820220 \n",
            "doctor data prediction accuracy: 0.718232 \n",
            "nondoctor data prediction accuracy: 0.821366\n",
            "rep 29 \n",
            "total prediction accuracy: 0.818254 \n",
            "doctor data prediction accuracy: 0.723757 \n",
            "nondoctor data prediction accuracy: 0.819317\n",
            "rep 30 \n",
            "total prediction accuracy: 0.820896 \n",
            "doctor data prediction accuracy: 0.729282 \n",
            "nondoctor data prediction accuracy: 0.821925\n",
            "rep 31 \n",
            "total prediction accuracy: 0.811437 \n",
            "doctor data prediction accuracy: 0.712707 \n",
            "nondoctor data prediction accuracy: 0.812547\n",
            "rep 32 \n",
            "total prediction accuracy: 0.818377 \n",
            "doctor data prediction accuracy: 0.718232 \n",
            "nondoctor data prediction accuracy: 0.819503\n",
            "rep 33 \n",
            "total prediction accuracy: 0.815122 \n",
            "doctor data prediction accuracy: 0.729282 \n",
            "nondoctor data prediction accuracy: 0.816087\n",
            "rep 34 \n",
            "total prediction accuracy: 0.818869 \n",
            "doctor data prediction accuracy: 0.729282 \n",
            "nondoctor data prediction accuracy: 0.819876\n",
            "rep 35 \n",
            "total prediction accuracy: 0.822124 \n",
            "doctor data prediction accuracy: 0.734807 \n",
            "nondoctor data prediction accuracy: 0.823106\n",
            "rep 36 \n",
            "total prediction accuracy: 0.816473 \n",
            "doctor data prediction accuracy: 0.718232 \n",
            "nondoctor data prediction accuracy: 0.817578\n",
            "rep 37 \n",
            "total prediction accuracy: 0.820957 \n",
            "doctor data prediction accuracy: 0.712707 \n",
            "nondoctor data prediction accuracy: 0.822174\n",
            "rep 38 \n",
            "total prediction accuracy: 0.821325 \n",
            "doctor data prediction accuracy: 0.740331 \n",
            "nondoctor data prediction accuracy: 0.822236\n",
            "rep 39 \n",
            "total prediction accuracy: 0.819606 \n",
            "doctor data prediction accuracy: 0.718232 \n",
            "nondoctor data prediction accuracy: 0.820745\n",
            "rep 40 \n",
            "total prediction accuracy: 0.820650 \n",
            "doctor data prediction accuracy: 0.734807 \n",
            "nondoctor data prediction accuracy: 0.821615\n",
            "rep 41 \n",
            "total prediction accuracy: 0.819176 \n",
            "doctor data prediction accuracy: 0.718232 \n",
            "nondoctor data prediction accuracy: 0.820311\n",
            "rep 42 \n",
            "total prediction accuracy: 0.821817 \n",
            "doctor data prediction accuracy: 0.729282 \n",
            "nondoctor data prediction accuracy: 0.822857\n",
            "rep 43 \n",
            "total prediction accuracy: 0.814385 \n",
            "doctor data prediction accuracy: 0.740331 \n",
            "nondoctor data prediction accuracy: 0.815217\n",
            "rep 44 \n",
            "total prediction accuracy: 0.817210 \n",
            "doctor data prediction accuracy: 0.734807 \n",
            "nondoctor data prediction accuracy: 0.818137\n",
            "rep 45 \n",
            "total prediction accuracy: 0.818439 \n",
            "doctor data prediction accuracy: 0.723757 \n",
            "nondoctor data prediction accuracy: 0.819503\n",
            "rep 46 \n",
            "total prediction accuracy: 0.819176 \n",
            "doctor data prediction accuracy: 0.723757 \n",
            "nondoctor data prediction accuracy: 0.820248\n",
            "rep 47 \n",
            "total prediction accuracy: 0.817272 \n",
            "doctor data prediction accuracy: 0.712707 \n",
            "nondoctor data prediction accuracy: 0.818447\n",
            "rep 48 \n",
            "total prediction accuracy: 0.819913 \n",
            "doctor data prediction accuracy: 0.734807 \n",
            "nondoctor data prediction accuracy: 0.820870\n",
            "rep 49 \n",
            "total prediction accuracy: 0.811682 \n",
            "doctor data prediction accuracy: 0.740331 \n",
            "nondoctor data prediction accuracy: 0.812484\n",
            "rep 50 \n",
            "total prediction accuracy: 0.821141 \n",
            "doctor data prediction accuracy: 0.729282 \n",
            "nondoctor data prediction accuracy: 0.822174\n",
            "rep 51 \n",
            "total prediction accuracy: 0.820896 \n",
            "doctor data prediction accuracy: 0.723757 \n",
            "nondoctor data prediction accuracy: 0.821988\n",
            "rep 52 \n",
            "total prediction accuracy: 0.822001 \n",
            "doctor data prediction accuracy: 0.718232 \n",
            "nondoctor data prediction accuracy: 0.823168\n",
            "rep 53 \n",
            "total prediction accuracy: 0.817947 \n",
            "doctor data prediction accuracy: 0.740331 \n",
            "nondoctor data prediction accuracy: 0.818820\n",
            "rep 54 \n",
            "total prediction accuracy: 0.817579 \n",
            "doctor data prediction accuracy: 0.718232 \n",
            "nondoctor data prediction accuracy: 0.818696\n",
            "rep 55 \n",
            "total prediction accuracy: 0.819237 \n",
            "doctor data prediction accuracy: 0.718232 \n",
            "nondoctor data prediction accuracy: 0.820373\n",
            "rep 56 \n",
            "total prediction accuracy: 0.816535 \n",
            "doctor data prediction accuracy: 0.723757 \n",
            "nondoctor data prediction accuracy: 0.817578\n",
            "rep 57 \n",
            "total prediction accuracy: 0.820097 \n",
            "doctor data prediction accuracy: 0.751381 \n",
            "nondoctor data prediction accuracy: 0.820870\n",
            "rep 58 \n",
            "total prediction accuracy: 0.822738 \n",
            "doctor data prediction accuracy: 0.734807 \n",
            "nondoctor data prediction accuracy: 0.823727\n",
            "rep 59 \n",
            "total prediction accuracy: 0.819851 \n",
            "doctor data prediction accuracy: 0.723757 \n",
            "nondoctor data prediction accuracy: 0.820932\n",
            "rep 60 \n",
            "total prediction accuracy: 0.814876 \n",
            "doctor data prediction accuracy: 0.734807 \n",
            "nondoctor data prediction accuracy: 0.815776\n",
            "rep 61 \n",
            "total prediction accuracy: 0.818254 \n",
            "doctor data prediction accuracy: 0.723757 \n",
            "nondoctor data prediction accuracy: 0.819317\n",
            "rep 62 \n",
            "total prediction accuracy: 0.822185 \n",
            "doctor data prediction accuracy: 0.718232 \n",
            "nondoctor data prediction accuracy: 0.823354\n",
            "rep 63 \n",
            "total prediction accuracy: 0.821080 \n",
            "doctor data prediction accuracy: 0.734807 \n",
            "nondoctor data prediction accuracy: 0.822050\n",
            "rep 64 \n",
            "total prediction accuracy: 0.817640 \n",
            "doctor data prediction accuracy: 0.712707 \n",
            "nondoctor data prediction accuracy: 0.818820\n",
            "rep 65 \n",
            "total prediction accuracy: 0.822370 \n",
            "doctor data prediction accuracy: 0.723757 \n",
            "nondoctor data prediction accuracy: 0.823478\n",
            "rep 66 \n",
            "total prediction accuracy: 0.819360 \n",
            "doctor data prediction accuracy: 0.723757 \n",
            "nondoctor data prediction accuracy: 0.820435\n",
            "rep 67 \n",
            "total prediction accuracy: 0.817149 \n",
            "doctor data prediction accuracy: 0.734807 \n",
            "nondoctor data prediction accuracy: 0.818075\n",
            "rep 68 \n",
            "total prediction accuracy: 0.822063 \n",
            "doctor data prediction accuracy: 0.734807 \n",
            "nondoctor data prediction accuracy: 0.823043\n",
            "rep 69 \n",
            "total prediction accuracy: 0.822247 \n",
            "doctor data prediction accuracy: 0.729282 \n",
            "nondoctor data prediction accuracy: 0.823292\n",
            "rep 70 \n",
            "total prediction accuracy: 0.818254 \n",
            "doctor data prediction accuracy: 0.712707 \n",
            "nondoctor data prediction accuracy: 0.819441\n",
            "rep 71 \n",
            "total prediction accuracy: 0.822063 \n",
            "doctor data prediction accuracy: 0.718232 \n",
            "nondoctor data prediction accuracy: 0.823230\n",
            "rep 72 \n",
            "total prediction accuracy: 0.816780 \n",
            "doctor data prediction accuracy: 0.745856 \n",
            "nondoctor data prediction accuracy: 0.817578\n",
            "rep 73 \n",
            "total prediction accuracy: 0.815736 \n",
            "doctor data prediction accuracy: 0.745856 \n",
            "nondoctor data prediction accuracy: 0.816522\n",
            "rep 74 \n",
            "total prediction accuracy: 0.820527 \n",
            "doctor data prediction accuracy: 0.740331 \n",
            "nondoctor data prediction accuracy: 0.821429\n",
            "rep 75 \n",
            "total prediction accuracy: 0.820097 \n",
            "doctor data prediction accuracy: 0.718232 \n",
            "nondoctor data prediction accuracy: 0.821242\n",
            "rep 76 \n",
            "total prediction accuracy: 0.820711 \n",
            "doctor data prediction accuracy: 0.729282 \n",
            "nondoctor data prediction accuracy: 0.821739\n",
            "rep 77 \n",
            "total prediction accuracy: 0.820834 \n",
            "doctor data prediction accuracy: 0.745856 \n",
            "nondoctor data prediction accuracy: 0.821677\n",
            "rep 78 \n",
            "total prediction accuracy: 0.820343 \n",
            "doctor data prediction accuracy: 0.712707 \n",
            "nondoctor data prediction accuracy: 0.821553\n",
            "rep 79 \n",
            "total prediction accuracy: 0.818807 \n",
            "doctor data prediction accuracy: 0.723757 \n",
            "nondoctor data prediction accuracy: 0.819876\n",
            "rep 80 \n",
            "total prediction accuracy: 0.821571 \n",
            "doctor data prediction accuracy: 0.729282 \n",
            "nondoctor data prediction accuracy: 0.822609\n",
            "rep 81 \n",
            "total prediction accuracy: 0.818316 \n",
            "doctor data prediction accuracy: 0.734807 \n",
            "nondoctor data prediction accuracy: 0.819255\n",
            "rep 82 \n",
            "total prediction accuracy: 0.822247 \n",
            "doctor data prediction accuracy: 0.712707 \n",
            "nondoctor data prediction accuracy: 0.823478\n",
            "rep 83 \n",
            "total prediction accuracy: 0.823168 \n",
            "doctor data prediction accuracy: 0.729282 \n",
            "nondoctor data prediction accuracy: 0.824224\n",
            "rep 84 \n",
            "total prediction accuracy: 0.821510 \n",
            "doctor data prediction accuracy: 0.729282 \n",
            "nondoctor data prediction accuracy: 0.822547\n",
            "rep 85 \n",
            "total prediction accuracy: 0.822001 \n",
            "doctor data prediction accuracy: 0.729282 \n",
            "nondoctor data prediction accuracy: 0.823043\n",
            "rep 86 \n",
            "total prediction accuracy: 0.820036 \n",
            "doctor data prediction accuracy: 0.718232 \n",
            "nondoctor data prediction accuracy: 0.821180\n",
            "rep 87 \n",
            "total prediction accuracy: 0.820650 \n",
            "doctor data prediction accuracy: 0.723757 \n",
            "nondoctor data prediction accuracy: 0.821739\n",
            "rep 88 \n",
            "total prediction accuracy: 0.819913 \n",
            "doctor data prediction accuracy: 0.723757 \n",
            "nondoctor data prediction accuracy: 0.820994\n",
            "rep 89 \n",
            "total prediction accuracy: 0.821203 \n",
            "doctor data prediction accuracy: 0.740331 \n",
            "nondoctor data prediction accuracy: 0.822112\n",
            "rep 90 \n",
            "total prediction accuracy: 0.821571 \n",
            "doctor data prediction accuracy: 0.718232 \n",
            "nondoctor data prediction accuracy: 0.822733\n",
            "rep 91 \n",
            "total prediction accuracy: 0.816166 \n",
            "doctor data prediction accuracy: 0.745856 \n",
            "nondoctor data prediction accuracy: 0.816957\n",
            "rep 92 \n",
            "total prediction accuracy: 0.817824 \n",
            "doctor data prediction accuracy: 0.723757 \n",
            "nondoctor data prediction accuracy: 0.818882\n",
            "rep 93 \n",
            "total prediction accuracy: 0.815368 \n",
            "doctor data prediction accuracy: 0.712707 \n",
            "nondoctor data prediction accuracy: 0.816522\n",
            "rep 94 \n",
            "total prediction accuracy: 0.819851 \n",
            "doctor data prediction accuracy: 0.712707 \n",
            "nondoctor data prediction accuracy: 0.821056\n",
            "rep 95 \n",
            "total prediction accuracy: 0.820220 \n",
            "doctor data prediction accuracy: 0.723757 \n",
            "nondoctor data prediction accuracy: 0.821304\n",
            "rep 96 \n",
            "total prediction accuracy: 0.821141 \n",
            "doctor data prediction accuracy: 0.712707 \n",
            "nondoctor data prediction accuracy: 0.822360\n",
            "rep 97 \n",
            "total prediction accuracy: 0.820158 \n",
            "doctor data prediction accuracy: 0.745856 \n",
            "nondoctor data prediction accuracy: 0.820994\n",
            "rep 98 \n",
            "total prediction accuracy: 0.813156 \n",
            "doctor data prediction accuracy: 0.745856 \n",
            "nondoctor data prediction accuracy: 0.813913\n",
            "rep 99 \n",
            "total prediction accuracy: 0.819790 \n",
            "doctor data prediction accuracy: 0.734807 \n",
            "nondoctor data prediction accuracy: 0.820745\n"
          ],
          "name": "stdout"
        }
      ]
    },
    {
      "cell_type": "code",
      "metadata": {
        "colab": {
          "base_uri": "https://localhost:8080/"
        },
        "id": "ZX2TEh-yHJzj",
        "outputId": "99a3931d-e1c6-4b16-c556-e69ce3dbac4c"
      },
      "source": [
        "print(Results2)"
      ],
      "execution_count": null,
      "outputs": [
        {
          "output_type": "stream",
          "text": [
            "[[0.81911431 0.72928177 0.82012422]\n",
            " [0.82077268 0.71270718 0.82198758]\n",
            " [0.81856151 0.70165746 0.81987578]\n",
            " [0.81923715 0.72928177 0.82024845]\n",
            " [0.81991278 0.72375691 0.82099379]\n",
            " [0.82101836 0.72928177 0.82204969]\n",
            " [0.82126405 0.72375691 0.82236025]\n",
            " [0.8196671  0.72375691 0.82074534]\n",
            " [0.81463055 0.72928177 0.81559006]\n",
            " [0.81856151 0.70718232 0.81981366]\n",
            " [0.8196671  0.71823204 0.82080745]\n",
            " [0.82163258 0.72375691 0.82273292]\n",
            " [0.81843867 0.72375691 0.81950311]\n",
            " [0.82193968 0.71823204 0.82310559]\n",
            " [0.82046557 0.71823204 0.82161491]\n",
            " [0.82273816 0.72928177 0.82378882]\n",
            " [0.81978994 0.72375691 0.82086957]\n",
            " [0.82126405 0.74585635 0.8221118 ]\n",
            " [0.82138689 0.71823204 0.82254658]\n",
            " [0.81874578 0.72928177 0.81975155]\n",
            " [0.81929857 0.73480663 0.82024845]\n",
            " [0.82249248 0.74033149 0.82341615]\n",
            " [0.82181684 0.73480663 0.82279503]\n",
            " [0.82071126 0.71270718 0.82192547]\n",
            " [0.82064984 0.72375691 0.82173913]\n",
            " [0.8225539  0.74585635 0.82341615]\n",
            " [0.82181684 0.71823204 0.82298137]\n",
            " [0.82009705 0.72375691 0.82118012]\n",
            " [0.82021989 0.71823204 0.82136646]\n",
            " [0.81825441 0.72375691 0.81931677]\n",
            " [0.82089552 0.72928177 0.82192547]\n",
            " [0.81143664 0.71270718 0.81254658]\n",
            " [0.81837725 0.71823204 0.81950311]\n",
            " [0.81512192 0.72928177 0.81608696]\n",
            " [0.81886862 0.72928177 0.81987578]\n",
            " [0.82212395 0.73480663 0.82310559]\n",
            " [0.81647319 0.71823204 0.81757764]\n",
            " [0.82095694 0.71270718 0.82217391]\n",
            " [0.82132547 0.74033149 0.82223602]\n",
            " [0.81960568 0.71823204 0.82074534]\n",
            " [0.82064984 0.73480663 0.82161491]\n",
            " [0.81917573 0.71823204 0.82031056]\n",
            " [0.82181684 0.72928177 0.82285714]\n",
            " [0.81438487 0.74033149 0.81521739]\n",
            " [0.81721025 0.73480663 0.81813665]\n",
            " [0.81843867 0.72375691 0.81950311]\n",
            " [0.81917573 0.72375691 0.82024845]\n",
            " [0.81727167 0.71270718 0.8184472 ]\n",
            " [0.81991278 0.73480663 0.82086957]\n",
            " [0.81168233 0.74033149 0.81248447]\n",
            " [0.82114121 0.72928177 0.82217391]\n",
            " [0.82089552 0.72375691 0.82198758]\n",
            " [0.82200111 0.71823204 0.8231677 ]\n",
            " [0.8179473  0.74033149 0.81881988]\n",
            " [0.81757877 0.71823204 0.81869565]\n",
            " [0.81923715 0.71823204 0.82037267]\n",
            " [0.81653461 0.72375691 0.81757764]\n",
            " [0.82009705 0.75138122 0.82086957]\n",
            " [0.82273816 0.73480663 0.82372671]\n",
            " [0.81985136 0.72375691 0.82093168]\n",
            " [0.81487624 0.73480663 0.8157764 ]\n",
            " [0.81825441 0.72375691 0.81931677]\n",
            " [0.82218537 0.71823204 0.82335404]\n",
            " [0.82107979 0.73480663 0.82204969]\n",
            " [0.81764019 0.71270718 0.81881988]\n",
            " [0.82236963 0.72375691 0.82347826]\n",
            " [0.81935999 0.72375691 0.82043478]\n",
            " [0.81714882 0.73480663 0.81807453]\n",
            " [0.82206253 0.73480663 0.82304348]\n",
            " [0.82224679 0.72928177 0.82329193]\n",
            " [0.81825441 0.71270718 0.81944099]\n",
            " [0.82206253 0.71823204 0.82322981]\n",
            " [0.8167803  0.74585635 0.81757764]\n",
            " [0.81573613 0.74585635 0.81652174]\n",
            " [0.82052699 0.74033149 0.82142857]\n",
            " [0.82009705 0.71823204 0.82124224]\n",
            " [0.82071126 0.72928177 0.82173913]\n",
            " [0.8208341  0.74585635 0.82167702]\n",
            " [0.82034273 0.71270718 0.8215528 ]\n",
            " [0.8188072  0.72375691 0.81987578]\n",
            " [0.82157116 0.72928177 0.8226087 ]\n",
            " [0.81831583 0.73480663 0.81925466]\n",
            " [0.82224679 0.71270718 0.82347826]\n",
            " [0.82316811 0.72928177 0.8242236 ]\n",
            " [0.82150974 0.72928177 0.82254658]\n",
            " [0.82200111 0.72928177 0.82304348]\n",
            " [0.82003562 0.71823204 0.82118012]\n",
            " [0.82064984 0.72375691 0.82173913]\n",
            " [0.81991278 0.72375691 0.82099379]\n",
            " [0.82120263 0.74033149 0.8221118 ]\n",
            " [0.82157116 0.71823204 0.82273292]\n",
            " [0.81616608 0.74585635 0.81695652]\n",
            " [0.81782446 0.72375691 0.81888199]\n",
            " [0.81536761 0.71270718 0.81652174]\n",
            " [0.81985136 0.71270718 0.8210559 ]\n",
            " [0.82021989 0.72375691 0.82130435]\n",
            " [0.82114121 0.71270718 0.82236025]\n",
            " [0.82015847 0.74585635 0.82099379]\n",
            " [0.81315644 0.74585635 0.81391304]\n",
            " [0.81978994 0.73480663 0.82074534]]\n"
          ],
          "name": "stdout"
        }
      ]
    },
    {
      "cell_type": "code",
      "metadata": {
        "colab": {
          "base_uri": "https://localhost:8080/"
        },
        "id": "nRgzkItJHHWi",
        "outputId": "6539f1e4-56d8-4dfe-cab1-9ac414c5c700"
      },
      "source": [
        "Results2.mean(axis = 0)"
      ],
      "execution_count": null,
      "outputs": [
        {
          "output_type": "execute_result",
          "data": {
            "text/plain": [
              "array([0.81956882, 0.72662983, 0.82061366])"
            ]
          },
          "metadata": {
            "tags": []
          },
          "execution_count": 59
        }
      ]
    },
    {
      "cell_type": "code",
      "metadata": {
        "colab": {
          "base_uri": "https://localhost:8080/"
        },
        "id": "zFaOwqI4HI-l",
        "outputId": "24fe9731-a056-4f65-bc93-768ed20df028"
      },
      "source": [
        "Results2.std(axis = 0)"
      ],
      "execution_count": null,
      "outputs": [
        {
          "output_type": "execute_result",
          "data": {
            "text/plain": [
              "array([0.00238644, 0.0103207 , 0.00242359])"
            ]
          },
          "metadata": {
            "tags": []
          },
          "execution_count": 60
        }
      ]
    },
    {
      "cell_type": "markdown",
      "metadata": {
        "id": "sL5e7sNg_3Hi"
      },
      "source": [
        "q-FFL"
      ]
    },
    {
      "cell_type": "code",
      "metadata": {
        "id": "n8ezaSTg_25b"
      },
      "source": [
        "IDs = ('doctor', 'nondoctor')\n",
        "initial_params = None\n",
        "learning_rate = 0.1\n",
        "q1 = 0.01\n",
        "q2 = 2\n",
        "EPOCH = 2\n",
        "BATCH_SIZE = 10"
      ],
      "execution_count": null,
      "outputs": []
    },
    {
      "cell_type": "code",
      "metadata": {
        "id": "JIHVs8s4ASds"
      },
      "source": [
        "doc_test = Client_Data((new_X_test, new_y_test), IDs[0])\n",
        "nondoc_test = Client_Data((new_X_test, new_y_test), IDs[1])"
      ],
      "execution_count": null,
      "outputs": []
    },
    {
      "cell_type": "code",
      "metadata": {
        "colab": {
          "base_uri": "https://localhost:8080/"
        },
        "id": "mGjkiI4bAV8w",
        "outputId": "41d729f3-7374-4a51-bc8c-599cecab903d"
      },
      "source": [
        "REP = 100\n",
        "Results3 = np.zeros((REP, 3))\n",
        "for i in range(REP):\n",
        "  LR_qFFL_fit = qFFL(q2, L, (new_X_train, new_y_train), IDs, my_LogR, initial_params, learning_rate)\n",
        "  ITER = 50\n",
        "  losses = np.arange(10, 0, -1, dtype = np.float64)\n",
        "  for _ in range(ITER):\n",
        "    loss = LR_qFFL_fit.train(EPOCH, BATCH_SIZE)\n",
        "    losses[:-1] = losses[1:]\n",
        "    losses[-1] = loss\n",
        "    if sum(losses[:-1] >= losses[1:]) == 0:\n",
        "      break\n",
        "  \n",
        "  final_model = LR_qFFL_fit.model\n",
        "  acc1 = final_model.predict_accu(doc_test)\n",
        "  acc2 = final_model.predict_accu(nondoc_test)\n",
        "  acc0 = (len(doc_test) * acc1 + len(nondoc_test) * acc2) / (len(doc_test) + len(nondoc_test))\n",
        "  print('rep {:d} \\ntotal prediction accuracy: {:2f} \\ndoctor data prediction accuracy: {:2f} \\nnondoctor data prediction accuracy: {:2f}'.format(i, acc0, acc1, acc2))\n",
        "\n",
        "  Results3[i, 0] = acc0\n",
        "  Results3[i, 1] = acc1\n",
        "  Results3[i, 2] = acc2"
      ],
      "execution_count": null,
      "outputs": [
        {
          "output_type": "stream",
          "text": [
            "rep 0 \n",
            "total prediction accuracy: 0.810147 \n",
            "doctor data prediction accuracy: 0.723757 \n",
            "nondoctor data prediction accuracy: 0.811118\n",
            "rep 1 \n",
            "total prediction accuracy: 0.813586 \n",
            "doctor data prediction accuracy: 0.723757 \n",
            "nondoctor data prediction accuracy: 0.814596\n",
            "rep 2 \n",
            "total prediction accuracy: 0.828512 \n",
            "doctor data prediction accuracy: 0.729282 \n",
            "nondoctor data prediction accuracy: 0.829627\n",
            "rep 3 \n",
            "total prediction accuracy: 0.813402 \n",
            "doctor data prediction accuracy: 0.723757 \n",
            "nondoctor data prediction accuracy: 0.814410\n",
            "rep 4 \n",
            "total prediction accuracy: 0.812726 \n",
            "doctor data prediction accuracy: 0.723757 \n",
            "nondoctor data prediction accuracy: 0.813727\n",
            "rep 5 \n",
            "total prediction accuracy: 0.829556 \n",
            "doctor data prediction accuracy: 0.729282 \n",
            "nondoctor data prediction accuracy: 0.830683\n",
            "rep 6 \n",
            "total prediction accuracy: 0.812788 \n",
            "doctor data prediction accuracy: 0.723757 \n",
            "nondoctor data prediction accuracy: 0.813789\n",
            "rep 7 \n",
            "total prediction accuracy: 0.813709 \n",
            "doctor data prediction accuracy: 0.723757 \n",
            "nondoctor data prediction accuracy: 0.814720\n",
            "rep 8 \n",
            "total prediction accuracy: 0.813034 \n",
            "doctor data prediction accuracy: 0.723757 \n",
            "nondoctor data prediction accuracy: 0.814037\n",
            "rep 9 \n",
            "total prediction accuracy: 0.810945 \n",
            "doctor data prediction accuracy: 0.723757 \n",
            "nondoctor data prediction accuracy: 0.811925\n",
            "rep 10 \n",
            "total prediction accuracy: 0.810822 \n",
            "doctor data prediction accuracy: 0.723757 \n",
            "nondoctor data prediction accuracy: 0.811801\n",
            "rep 11 \n",
            "total prediction accuracy: 0.829187 \n",
            "doctor data prediction accuracy: 0.729282 \n",
            "nondoctor data prediction accuracy: 0.830311\n",
            "rep 12 \n",
            "total prediction accuracy: 0.812665 \n",
            "doctor data prediction accuracy: 0.723757 \n",
            "nondoctor data prediction accuracy: 0.813665\n",
            "rep 13 \n",
            "total prediction accuracy: 0.813464 \n",
            "doctor data prediction accuracy: 0.723757 \n",
            "nondoctor data prediction accuracy: 0.814472\n",
            "rep 14 \n",
            "total prediction accuracy: 0.813402 \n",
            "doctor data prediction accuracy: 0.723757 \n",
            "nondoctor data prediction accuracy: 0.814410\n",
            "rep 15 \n",
            "total prediction accuracy: 0.812849 \n",
            "doctor data prediction accuracy: 0.723757 \n",
            "nondoctor data prediction accuracy: 0.813851\n",
            "rep 16 \n",
            "total prediction accuracy: 0.813095 \n",
            "doctor data prediction accuracy: 0.723757 \n",
            "nondoctor data prediction accuracy: 0.814099\n",
            "rep 17 \n",
            "total prediction accuracy: 0.812604 \n",
            "doctor data prediction accuracy: 0.723757 \n",
            "nondoctor data prediction accuracy: 0.813602\n",
            "rep 18 \n",
            "total prediction accuracy: 0.812849 \n",
            "doctor data prediction accuracy: 0.723757 \n",
            "nondoctor data prediction accuracy: 0.813851\n",
            "rep 19 \n",
            "total prediction accuracy: 0.813648 \n",
            "doctor data prediction accuracy: 0.723757 \n",
            "nondoctor data prediction accuracy: 0.814658\n",
            "rep 20 \n",
            "total prediction accuracy: 0.812665 \n",
            "doctor data prediction accuracy: 0.723757 \n",
            "nondoctor data prediction accuracy: 0.813665\n",
            "rep 21 \n",
            "total prediction accuracy: 0.814508 \n",
            "doctor data prediction accuracy: 0.723757 \n",
            "nondoctor data prediction accuracy: 0.815528\n",
            "rep 22 \n",
            "total prediction accuracy: 0.809778 \n",
            "doctor data prediction accuracy: 0.723757 \n",
            "nondoctor data prediction accuracy: 0.810745\n",
            "rep 23 \n",
            "total prediction accuracy: 0.812788 \n",
            "doctor data prediction accuracy: 0.723757 \n",
            "nondoctor data prediction accuracy: 0.813789\n",
            "rep 24 \n",
            "total prediction accuracy: 0.809963 \n",
            "doctor data prediction accuracy: 0.723757 \n",
            "nondoctor data prediction accuracy: 0.810932\n",
            "rep 25 \n",
            "total prediction accuracy: 0.809287 \n",
            "doctor data prediction accuracy: 0.718232 \n",
            "nondoctor data prediction accuracy: 0.810311\n",
            "rep 26 \n",
            "total prediction accuracy: 0.814508 \n",
            "doctor data prediction accuracy: 0.723757 \n",
            "nondoctor data prediction accuracy: 0.815528\n",
            "rep 27 \n",
            "total prediction accuracy: 0.813648 \n",
            "doctor data prediction accuracy: 0.723757 \n",
            "nondoctor data prediction accuracy: 0.814658\n",
            "rep 28 \n",
            "total prediction accuracy: 0.812604 \n",
            "doctor data prediction accuracy: 0.723757 \n",
            "nondoctor data prediction accuracy: 0.813602\n",
            "rep 29 \n",
            "total prediction accuracy: 0.812972 \n",
            "doctor data prediction accuracy: 0.723757 \n",
            "nondoctor data prediction accuracy: 0.813975\n",
            "rep 30 \n",
            "total prediction accuracy: 0.812726 \n",
            "doctor data prediction accuracy: 0.723757 \n",
            "nondoctor data prediction accuracy: 0.813727\n",
            "rep 31 \n",
            "total prediction accuracy: 0.814569 \n",
            "doctor data prediction accuracy: 0.723757 \n",
            "nondoctor data prediction accuracy: 0.815590\n",
            "rep 32 \n",
            "total prediction accuracy: 0.810392 \n",
            "doctor data prediction accuracy: 0.723757 \n",
            "nondoctor data prediction accuracy: 0.811366\n",
            "rep 33 \n",
            "total prediction accuracy: 0.813402 \n",
            "doctor data prediction accuracy: 0.723757 \n",
            "nondoctor data prediction accuracy: 0.814410\n",
            "rep 34 \n",
            "total prediction accuracy: 0.813156 \n",
            "doctor data prediction accuracy: 0.723757 \n",
            "nondoctor data prediction accuracy: 0.814161\n",
            "rep 35 \n",
            "total prediction accuracy: 0.814876 \n",
            "doctor data prediction accuracy: 0.723757 \n",
            "nondoctor data prediction accuracy: 0.815901\n",
            "rep 36 \n",
            "total prediction accuracy: 0.814876 \n",
            "doctor data prediction accuracy: 0.723757 \n",
            "nondoctor data prediction accuracy: 0.815901\n",
            "rep 37 \n",
            "total prediction accuracy: 0.810024 \n",
            "doctor data prediction accuracy: 0.723757 \n",
            "nondoctor data prediction accuracy: 0.810994\n",
            "rep 38 \n",
            "total prediction accuracy: 0.812972 \n",
            "doctor data prediction accuracy: 0.723757 \n",
            "nondoctor data prediction accuracy: 0.813975\n",
            "rep 39 \n",
            "total prediction accuracy: 0.811068 \n",
            "doctor data prediction accuracy: 0.723757 \n",
            "nondoctor data prediction accuracy: 0.812050\n",
            "rep 40 \n",
            "total prediction accuracy: 0.813648 \n",
            "doctor data prediction accuracy: 0.723757 \n",
            "nondoctor data prediction accuracy: 0.814658\n",
            "rep 41 \n",
            "total prediction accuracy: 0.813464 \n",
            "doctor data prediction accuracy: 0.723757 \n",
            "nondoctor data prediction accuracy: 0.814472\n",
            "rep 42 \n",
            "total prediction accuracy: 0.812665 \n",
            "doctor data prediction accuracy: 0.723757 \n",
            "nondoctor data prediction accuracy: 0.813665\n",
            "rep 43 \n",
            "total prediction accuracy: 0.813832 \n",
            "doctor data prediction accuracy: 0.723757 \n",
            "nondoctor data prediction accuracy: 0.814845\n",
            "rep 44 \n",
            "total prediction accuracy: 0.811130 \n",
            "doctor data prediction accuracy: 0.723757 \n",
            "nondoctor data prediction accuracy: 0.812112\n",
            "rep 45 \n",
            "total prediction accuracy: 0.812665 \n",
            "doctor data prediction accuracy: 0.723757 \n",
            "nondoctor data prediction accuracy: 0.813665\n",
            "rep 46 \n",
            "total prediction accuracy: 0.813464 \n",
            "doctor data prediction accuracy: 0.723757 \n",
            "nondoctor data prediction accuracy: 0.814472\n",
            "rep 47 \n",
            "total prediction accuracy: 0.809103 \n",
            "doctor data prediction accuracy: 0.718232 \n",
            "nondoctor data prediction accuracy: 0.810124\n",
            "rep 48 \n",
            "total prediction accuracy: 0.812849 \n",
            "doctor data prediction accuracy: 0.723757 \n",
            "nondoctor data prediction accuracy: 0.813851\n",
            "rep 49 \n",
            "total prediction accuracy: 0.810085 \n",
            "doctor data prediction accuracy: 0.723757 \n",
            "nondoctor data prediction accuracy: 0.811056\n",
            "rep 50 \n",
            "total prediction accuracy: 0.812665 \n",
            "doctor data prediction accuracy: 0.723757 \n",
            "nondoctor data prediction accuracy: 0.813665\n",
            "rep 51 \n",
            "total prediction accuracy: 0.813218 \n",
            "doctor data prediction accuracy: 0.723757 \n",
            "nondoctor data prediction accuracy: 0.814224\n",
            "rep 52 \n",
            "total prediction accuracy: 0.814876 \n",
            "doctor data prediction accuracy: 0.723757 \n",
            "nondoctor data prediction accuracy: 0.815901\n",
            "rep 53 \n",
            "total prediction accuracy: 0.810761 \n",
            "doctor data prediction accuracy: 0.723757 \n",
            "nondoctor data prediction accuracy: 0.811739\n",
            "rep 54 \n",
            "total prediction accuracy: 0.810024 \n",
            "doctor data prediction accuracy: 0.723757 \n",
            "nondoctor data prediction accuracy: 0.810994\n",
            "rep 55 \n",
            "total prediction accuracy: 0.810761 \n",
            "doctor data prediction accuracy: 0.723757 \n",
            "nondoctor data prediction accuracy: 0.811739\n",
            "rep 56 \n",
            "total prediction accuracy: 0.829556 \n",
            "doctor data prediction accuracy: 0.729282 \n",
            "nondoctor data prediction accuracy: 0.830683\n",
            "rep 57 \n",
            "total prediction accuracy: 0.810761 \n",
            "doctor data prediction accuracy: 0.723757 \n",
            "nondoctor data prediction accuracy: 0.811739\n",
            "rep 58 \n",
            "total prediction accuracy: 0.813156 \n",
            "doctor data prediction accuracy: 0.723757 \n",
            "nondoctor data prediction accuracy: 0.814161\n",
            "rep 59 \n",
            "total prediction accuracy: 0.829187 \n",
            "doctor data prediction accuracy: 0.729282 \n",
            "nondoctor data prediction accuracy: 0.830311\n",
            "rep 60 \n",
            "total prediction accuracy: 0.812849 \n",
            "doctor data prediction accuracy: 0.723757 \n",
            "nondoctor data prediction accuracy: 0.813851\n",
            "rep 61 \n",
            "total prediction accuracy: 0.813648 \n",
            "doctor data prediction accuracy: 0.723757 \n",
            "nondoctor data prediction accuracy: 0.814658\n",
            "rep 62 \n",
            "total prediction accuracy: 0.810270 \n",
            "doctor data prediction accuracy: 0.723757 \n",
            "nondoctor data prediction accuracy: 0.811242\n",
            "rep 63 \n",
            "total prediction accuracy: 0.814692 \n",
            "doctor data prediction accuracy: 0.723757 \n",
            "nondoctor data prediction accuracy: 0.815714\n",
            "rep 64 \n",
            "total prediction accuracy: 0.813586 \n",
            "doctor data prediction accuracy: 0.723757 \n",
            "nondoctor data prediction accuracy: 0.814596\n",
            "rep 65 \n",
            "total prediction accuracy: 0.813525 \n",
            "doctor data prediction accuracy: 0.723757 \n",
            "nondoctor data prediction accuracy: 0.814534\n",
            "rep 66 \n",
            "total prediction accuracy: 0.829556 \n",
            "doctor data prediction accuracy: 0.729282 \n",
            "nondoctor data prediction accuracy: 0.830683\n",
            "rep 67 \n",
            "total prediction accuracy: 0.829433 \n",
            "doctor data prediction accuracy: 0.729282 \n",
            "nondoctor data prediction accuracy: 0.830559\n",
            "rep 68 \n",
            "total prediction accuracy: 0.814876 \n",
            "doctor data prediction accuracy: 0.723757 \n",
            "nondoctor data prediction accuracy: 0.815901\n",
            "rep 69 \n",
            "total prediction accuracy: 0.812665 \n",
            "doctor data prediction accuracy: 0.723757 \n",
            "nondoctor data prediction accuracy: 0.813665\n",
            "rep 70 \n",
            "total prediction accuracy: 0.813034 \n",
            "doctor data prediction accuracy: 0.723757 \n",
            "nondoctor data prediction accuracy: 0.814037\n",
            "rep 71 \n",
            "total prediction accuracy: 0.828819 \n",
            "doctor data prediction accuracy: 0.729282 \n",
            "nondoctor data prediction accuracy: 0.829938\n",
            "rep 72 \n",
            "total prediction accuracy: 0.814815 \n",
            "doctor data prediction accuracy: 0.723757 \n",
            "nondoctor data prediction accuracy: 0.815839\n",
            "rep 73 \n",
            "total prediction accuracy: 0.814815 \n",
            "doctor data prediction accuracy: 0.723757 \n",
            "nondoctor data prediction accuracy: 0.815839\n",
            "rep 74 \n",
            "total prediction accuracy: 0.813464 \n",
            "doctor data prediction accuracy: 0.723757 \n",
            "nondoctor data prediction accuracy: 0.814472\n",
            "rep 75 \n",
            "total prediction accuracy: 0.812604 \n",
            "doctor data prediction accuracy: 0.723757 \n",
            "nondoctor data prediction accuracy: 0.813602\n",
            "rep 76 \n",
            "total prediction accuracy: 0.810208 \n",
            "doctor data prediction accuracy: 0.723757 \n",
            "nondoctor data prediction accuracy: 0.811180\n",
            "rep 77 \n",
            "total prediction accuracy: 0.813402 \n",
            "doctor data prediction accuracy: 0.723757 \n",
            "nondoctor data prediction accuracy: 0.814410\n",
            "rep 78 \n",
            "total prediction accuracy: 0.813709 \n",
            "doctor data prediction accuracy: 0.723757 \n",
            "nondoctor data prediction accuracy: 0.814720\n",
            "rep 79 \n",
            "total prediction accuracy: 0.813648 \n",
            "doctor data prediction accuracy: 0.723757 \n",
            "nondoctor data prediction accuracy: 0.814658\n",
            "rep 80 \n",
            "total prediction accuracy: 0.813095 \n",
            "doctor data prediction accuracy: 0.723757 \n",
            "nondoctor data prediction accuracy: 0.814099\n",
            "rep 81 \n",
            "total prediction accuracy: 0.812849 \n",
            "doctor data prediction accuracy: 0.723757 \n",
            "nondoctor data prediction accuracy: 0.813851\n",
            "rep 82 \n",
            "total prediction accuracy: 0.813402 \n",
            "doctor data prediction accuracy: 0.723757 \n",
            "nondoctor data prediction accuracy: 0.814410\n",
            "rep 83 \n",
            "total prediction accuracy: 0.811314 \n",
            "doctor data prediction accuracy: 0.723757 \n",
            "nondoctor data prediction accuracy: 0.812298\n",
            "rep 84 \n",
            "total prediction accuracy: 0.813156 \n",
            "doctor data prediction accuracy: 0.723757 \n",
            "nondoctor data prediction accuracy: 0.814161\n",
            "rep 85 \n",
            "total prediction accuracy: 0.813218 \n",
            "doctor data prediction accuracy: 0.723757 \n",
            "nondoctor data prediction accuracy: 0.814224\n",
            "rep 86 \n",
            "total prediction accuracy: 0.829556 \n",
            "doctor data prediction accuracy: 0.729282 \n",
            "nondoctor data prediction accuracy: 0.830683\n",
            "rep 87 \n",
            "total prediction accuracy: 0.812972 \n",
            "doctor data prediction accuracy: 0.723757 \n",
            "nondoctor data prediction accuracy: 0.813975\n",
            "rep 88 \n",
            "total prediction accuracy: 0.812542 \n",
            "doctor data prediction accuracy: 0.723757 \n",
            "nondoctor data prediction accuracy: 0.813540\n",
            "rep 89 \n",
            "total prediction accuracy: 0.813648 \n",
            "doctor data prediction accuracy: 0.723757 \n",
            "nondoctor data prediction accuracy: 0.814658\n",
            "rep 90 \n",
            "total prediction accuracy: 0.813709 \n",
            "doctor data prediction accuracy: 0.723757 \n",
            "nondoctor data prediction accuracy: 0.814720\n",
            "rep 91 \n",
            "total prediction accuracy: 0.828696 \n",
            "doctor data prediction accuracy: 0.729282 \n",
            "nondoctor data prediction accuracy: 0.829814\n",
            "rep 92 \n",
            "total prediction accuracy: 0.813525 \n",
            "doctor data prediction accuracy: 0.723757 \n",
            "nondoctor data prediction accuracy: 0.814534\n",
            "rep 93 \n",
            "total prediction accuracy: 0.812849 \n",
            "doctor data prediction accuracy: 0.723757 \n",
            "nondoctor data prediction accuracy: 0.813851\n",
            "rep 94 \n",
            "total prediction accuracy: 0.810024 \n",
            "doctor data prediction accuracy: 0.723757 \n",
            "nondoctor data prediction accuracy: 0.810994\n",
            "rep 95 \n",
            "total prediction accuracy: 0.829126 \n",
            "doctor data prediction accuracy: 0.729282 \n",
            "nondoctor data prediction accuracy: 0.830248\n",
            "rep 96 \n",
            "total prediction accuracy: 0.813034 \n",
            "doctor data prediction accuracy: 0.723757 \n",
            "nondoctor data prediction accuracy: 0.814037\n",
            "rep 97 \n",
            "total prediction accuracy: 0.812665 \n",
            "doctor data prediction accuracy: 0.723757 \n",
            "nondoctor data prediction accuracy: 0.813665\n",
            "rep 98 \n",
            "total prediction accuracy: 0.814815 \n",
            "doctor data prediction accuracy: 0.723757 \n",
            "nondoctor data prediction accuracy: 0.815839\n",
            "rep 99 \n",
            "total prediction accuracy: 0.810024 \n",
            "doctor data prediction accuracy: 0.723757 \n",
            "nondoctor data prediction accuracy: 0.810994\n"
          ],
          "name": "stdout"
        }
      ]
    },
    {
      "cell_type": "code",
      "metadata": {
        "colab": {
          "base_uri": "https://localhost:8080/"
        },
        "id": "FlsQYJisB2NA",
        "outputId": "66c6ace4-c0c8-476a-b70b-6da814b796e2"
      },
      "source": [
        "print(Results3)"
      ],
      "execution_count": null,
      "outputs": [
        {
          "output_type": "stream",
          "text": [
            "[[0.8101468  0.72375691 0.81111801]\n",
            " [0.81358639 0.72375691 0.81459627]\n",
            " [0.82851176 0.72928177 0.82962733]\n",
            " [0.81340213 0.72375691 0.81440994]\n",
            " [0.81272649 0.72375691 0.81372671]\n",
            " [0.82955592 0.72928177 0.83068323]\n",
            " [0.81278791 0.72375691 0.81378882]\n",
            " [0.81370923 0.72375691 0.8147205 ]\n",
            " [0.8130336  0.72375691 0.81403727]\n",
            " [0.81094527 0.72375691 0.81192547]\n",
            " [0.81082243 0.72375691 0.81180124]\n",
            " [0.8291874  0.72928177 0.83031056]\n",
            " [0.81266507 0.72375691 0.8136646 ]\n",
            " [0.81346355 0.72375691 0.81447205]\n",
            " [0.81340213 0.72375691 0.81440994]\n",
            " [0.81284933 0.72375691 0.81385093]\n",
            " [0.81309502 0.72375691 0.81409938]\n",
            " [0.81260365 0.72375691 0.81360248]\n",
            " [0.81284933 0.72375691 0.81385093]\n",
            " [0.81364781 0.72375691 0.81465839]\n",
            " [0.81266507 0.72375691 0.8136646 ]\n",
            " [0.81450771 0.72375691 0.81552795]\n",
            " [0.80977827 0.72375691 0.81074534]\n",
            " [0.81278791 0.72375691 0.81378882]\n",
            " [0.80996253 0.72375691 0.81093168]\n",
            " [0.8092869  0.71823204 0.81031056]\n",
            " [0.81450771 0.72375691 0.81552795]\n",
            " [0.81364781 0.72375691 0.81465839]\n",
            " [0.81260365 0.72375691 0.81360248]\n",
            " [0.81297218 0.72375691 0.81397516]\n",
            " [0.81272649 0.72375691 0.81372671]\n",
            " [0.81456913 0.72375691 0.81559006]\n",
            " [0.81039248 0.72375691 0.81136646]\n",
            " [0.81340213 0.72375691 0.81440994]\n",
            " [0.81315644 0.72375691 0.81416149]\n",
            " [0.81487624 0.72375691 0.81590062]\n",
            " [0.81487624 0.72375691 0.81590062]\n",
            " [0.81002395 0.72375691 0.81099379]\n",
            " [0.81297218 0.72375691 0.81397516]\n",
            " [0.81106812 0.72375691 0.81204969]\n",
            " [0.81364781 0.72375691 0.81465839]\n",
            " [0.81346355 0.72375691 0.81447205]\n",
            " [0.81266507 0.72375691 0.8136646 ]\n",
            " [0.81383207 0.72375691 0.81484472]\n",
            " [0.81112954 0.72375691 0.8121118 ]\n",
            " [0.81266507 0.72375691 0.8136646 ]\n",
            " [0.81346355 0.72375691 0.81447205]\n",
            " [0.80910263 0.71823204 0.81012422]\n",
            " [0.81284933 0.72375691 0.81385093]\n",
            " [0.81008538 0.72375691 0.8110559 ]\n",
            " [0.81266507 0.72375691 0.8136646 ]\n",
            " [0.81321786 0.72375691 0.8142236 ]\n",
            " [0.81487624 0.72375691 0.81590062]\n",
            " [0.81076101 0.72375691 0.81173913]\n",
            " [0.81002395 0.72375691 0.81099379]\n",
            " [0.81076101 0.72375691 0.81173913]\n",
            " [0.82955592 0.72928177 0.83068323]\n",
            " [0.81076101 0.72375691 0.81173913]\n",
            " [0.81315644 0.72375691 0.81416149]\n",
            " [0.8291874  0.72928177 0.83031056]\n",
            " [0.81284933 0.72375691 0.81385093]\n",
            " [0.81364781 0.72375691 0.81465839]\n",
            " [0.81026964 0.72375691 0.81124224]\n",
            " [0.81469197 0.72375691 0.81571429]\n",
            " [0.81358639 0.72375691 0.81459627]\n",
            " [0.81352497 0.72375691 0.81453416]\n",
            " [0.82955592 0.72928177 0.83068323]\n",
            " [0.82943308 0.72928177 0.83055901]\n",
            " [0.81487624 0.72375691 0.81590062]\n",
            " [0.81266507 0.72375691 0.8136646 ]\n",
            " [0.8130336  0.72375691 0.81403727]\n",
            " [0.82881887 0.72928177 0.82993789]\n",
            " [0.81481481 0.72375691 0.81583851]\n",
            " [0.81481481 0.72375691 0.81583851]\n",
            " [0.81346355 0.72375691 0.81447205]\n",
            " [0.81260365 0.72375691 0.81360248]\n",
            " [0.81020822 0.72375691 0.81118012]\n",
            " [0.81340213 0.72375691 0.81440994]\n",
            " [0.81370923 0.72375691 0.8147205 ]\n",
            " [0.81364781 0.72375691 0.81465839]\n",
            " [0.81309502 0.72375691 0.81409938]\n",
            " [0.81284933 0.72375691 0.81385093]\n",
            " [0.81340213 0.72375691 0.81440994]\n",
            " [0.8113138  0.72375691 0.81229814]\n",
            " [0.81315644 0.72375691 0.81416149]\n",
            " [0.81321786 0.72375691 0.8142236 ]\n",
            " [0.82955592 0.72928177 0.83068323]\n",
            " [0.81297218 0.72375691 0.81397516]\n",
            " [0.81254223 0.72375691 0.81354037]\n",
            " [0.81364781 0.72375691 0.81465839]\n",
            " [0.81370923 0.72375691 0.8147205 ]\n",
            " [0.82869603 0.72928177 0.82981366]\n",
            " [0.81352497 0.72375691 0.81453416]\n",
            " [0.81284933 0.72375691 0.81385093]\n",
            " [0.81002395 0.72375691 0.81099379]\n",
            " [0.82912598 0.72928177 0.83024845]\n",
            " [0.8130336  0.72375691 0.81403727]\n",
            " [0.81266507 0.72375691 0.8136646 ]\n",
            " [0.81481481 0.72375691 0.81583851]\n",
            " [0.81002395 0.72375691 0.81099379]]\n"
          ],
          "name": "stdout"
        }
      ]
    },
    {
      "cell_type": "code",
      "metadata": {
        "colab": {
          "base_uri": "https://localhost:8080/"
        },
        "id": "VVjCN32yB4Vn",
        "outputId": "13fe1221-1c4a-4517-9496-fd4f714734f8"
      },
      "source": [
        "Results3.mean(axis = 0)"
      ],
      "execution_count": null,
      "outputs": [
        {
          "output_type": "execute_result",
          "data": {
            "text/plain": [
              "array([0.81449481, 0.72425414, 0.81550932])"
            ]
          },
          "metadata": {
            "tags": []
          },
          "execution_count": 69
        }
      ]
    },
    {
      "cell_type": "code",
      "metadata": {
        "colab": {
          "base_uri": "https://localhost:8080/"
        },
        "id": "WnS8ti-SB6TX",
        "outputId": "0522f362-bf3e-49b9-8303-fbfd6d612366"
      },
      "source": [
        "Results3.std(axis = 0)"
      ],
      "execution_count": null,
      "outputs": [
        {
          "output_type": "execute_result",
          "data": {
            "text/plain": [
              "array([0.00535218, 0.00192896, 0.00539236])"
            ]
          },
          "metadata": {
            "tags": []
          },
          "execution_count": 70
        }
      ]
    }
  ]
}